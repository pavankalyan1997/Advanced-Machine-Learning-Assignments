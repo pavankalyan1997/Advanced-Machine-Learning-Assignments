{
  "nbformat": 4,
  "nbformat_minor": 0,
  "metadata": {
    "kernelspec": {
      "display_name": "Python 3",
      "language": "python",
      "name": "python3"
    },
    "language_info": {
      "codemirror_mode": {
        "name": "ipython",
        "version": 3
      },
      "file_extension": ".py",
      "mimetype": "text/x-python",
      "name": "python",
      "nbconvert_exporter": "python",
      "pygments_lexer": "ipython3",
      "version": "3.6.5"
    },
    "colab": {
      "name": "Copy of intro_to_tensorflow.ipynb",
      "version": "0.3.2",
      "provenance": [],
      "include_colab_link": true
    }
  },
  "cells": [
    {
      "cell_type": "markdown",
      "metadata": {
        "id": "view-in-github",
        "colab_type": "text"
      },
      "source": [
        "<a href=\"https://colab.research.google.com/github/pavankalyan1997/Advanced-Machine-Learning-Assignments/blob/master/Intro_to_tensorflow.ipynb\" target=\"_parent\"><img src=\"https://colab.research.google.com/assets/colab-badge.svg\" alt=\"Open In Colab\"/></a>"
      ]
    },
    {
      "cell_type": "markdown",
      "metadata": {
        "id": "oLy4iugVit24",
        "colab_type": "text"
      },
      "source": [
        "# Intro to TensorFlow\n",
        "\n",
        "This notebook covers the basics of TF and shows you an animation with gradient descent trajectory.\n",
        "<img src=\"https://github.com/hse-aml/intro-to-dl/blob/master/week2/v2/images/gradient_descent.png?raw=1\" style=\"width:50%\">"
      ]
    },
    {
      "cell_type": "markdown",
      "metadata": {
        "id": "M-3NqZYkit27",
        "colab_type": "text"
      },
      "source": [
        "# TensorBoard"
      ]
    },
    {
      "cell_type": "markdown",
      "metadata": {
        "id": "ENmmD6BIit29",
        "colab_type": "text"
      },
      "source": [
        "**Plase note that if you are running on the Coursera platform, you won't be able to access the tensorboard instance due to the network setup there.**\n",
        "\n",
        "Run `tensorboard --logdir=./tensorboard_logs --port=7007` in bash.\n",
        "\n",
        "If you run the notebook locally, you should be able to access TensorBoard on http://127.0.0.1:7007/"
      ]
    },
    {
      "cell_type": "code",
      "metadata": {
        "id": "xLshXEaKjHvc",
        "colab_type": "code",
        "colab": {
          "base_uri": "https://localhost:8080/",
          "height": 329
        },
        "outputId": "701e041a-c8d2-4bc7-b359-5716f92baf98"
      },
      "source": [
        "! shred -u setup_google_colab.py\n",
        "! wget https://raw.githubusercontent.com/hse-aml/intro-to-dl/master/setup_google_colab.py -O setup_google_colab.py\n",
        "import setup_google_colab\n",
        "# please, uncomment the week you're working on\n",
        "# setup_google_colab.setup_week1()\n",
        "setup_google_colab.setup_week2()"
      ],
      "execution_count": 2,
      "outputs": [
        {
          "output_type": "stream",
          "text": [
            "shred: setup_google_colab.py: failed to open for writing: No such file or directory\n",
            "--2019-08-02 18:17:21--  https://raw.githubusercontent.com/hse-aml/intro-to-dl/master/setup_google_colab.py\n",
            "Resolving raw.githubusercontent.com (raw.githubusercontent.com)... 151.101.0.133, 151.101.64.133, 151.101.128.133, ...\n",
            "Connecting to raw.githubusercontent.com (raw.githubusercontent.com)|151.101.0.133|:443... connected.\n",
            "HTTP request sent, awaiting response... 200 OK\n",
            "Length: 3792 (3.7K) [text/plain]\n",
            "Saving to: ‘setup_google_colab.py’\n",
            "\n",
            "setup_google_colab. 100%[===================>]   3.70K  --.-KB/s    in 0s      \n",
            "\n",
            "2019-08-02 18:17:27 (37.1 MB/s) - ‘setup_google_colab.py’ saved [3792/3792]\n",
            "\n",
            "**************************************************\n",
            "inception_v3_weights_tf_dim_ordering_tf_kernels_notop.h5\n",
            "**************************************************\n",
            "cifar-10-batches-py.tar.gz\n",
            "**************************************************\n",
            "mnist.npz\n"
          ],
          "name": "stdout"
        }
      ]
    },
    {
      "cell_type": "code",
      "metadata": {
        "id": "habJg8Fwit2-",
        "colab_type": "code",
        "colab": {
          "base_uri": "https://localhost:8080/",
          "height": 263
        },
        "outputId": "4f79333c-904d-4165-b2ae-b37d67eef9c7"
      },
      "source": [
        "import tensorflow as tf\n",
        "import sys\n",
        "sys.path.append(\"../..\")\n",
        "from keras_utils import reset_tf_session\n",
        "s = reset_tf_session()\n",
        "print(\"We're using TF\", tf.__version__)"
      ],
      "execution_count": 3,
      "outputs": [
        {
          "output_type": "stream",
          "text": [
            "Using TensorFlow backend.\n",
            "WARNING: Logging before flag parsing goes to stderr.\n",
            "W0802 18:18:15.880454 139990153832320 deprecation_wrapper.py:119] From /content/keras_utils.py:68: The name tf.get_default_session is deprecated. Please use tf.compat.v1.get_default_session instead.\n",
            "\n",
            "W0802 18:18:15.882177 139990153832320 deprecation_wrapper.py:119] From /usr/local/lib/python3.6/dist-packages/keras/backend/tensorflow_backend.py:79: The name tf.reset_default_graph is deprecated. Please use tf.compat.v1.reset_default_graph instead.\n",
            "\n",
            "W0802 18:18:15.883228 139990153832320 deprecation_wrapper.py:119] From /usr/local/lib/python3.6/dist-packages/keras/backend/tensorflow_backend.py:82: The name tf.placeholder is deprecated. Please use tf.compat.v1.placeholder instead.\n",
            "\n",
            "W0802 18:18:15.904301 139990153832320 deprecation_wrapper.py:119] From /usr/local/lib/python3.6/dist-packages/keras/backend/tensorflow_backend.py:84: The name tf.get_default_graph is deprecated. Please use tf.compat.v1.get_default_graph instead.\n",
            "\n",
            "W0802 18:18:15.905848 139990153832320 deprecation_wrapper.py:119] From /content/keras_utils.py:75: The name tf.ConfigProto is deprecated. Please use tf.compat.v1.ConfigProto instead.\n",
            "\n"
          ],
          "name": "stderr"
        },
        {
          "output_type": "stream",
          "text": [
            "We're using TF 1.14.0\n"
          ],
          "name": "stdout"
        }
      ]
    },
    {
      "cell_type": "markdown",
      "metadata": {
        "id": "cuJxvL1vit3B",
        "colab_type": "text"
      },
      "source": [
        "# Warming up\n",
        "For starters, let's implement a python function that computes the sum of squares of numbers from 0 to N-1."
      ]
    },
    {
      "cell_type": "code",
      "metadata": {
        "id": "svh-hxp1it3C",
        "colab_type": "code",
        "colab": {}
      },
      "source": [
        "import numpy as np\n",
        "\n",
        "def sum_python(N):\n",
        "    return np.sum(np.arange(N)**2)"
      ],
      "execution_count": 0,
      "outputs": []
    },
    {
      "cell_type": "code",
      "metadata": {
        "id": "tVOnCkXkit3F",
        "colab_type": "code",
        "colab": {
          "base_uri": "https://localhost:8080/",
          "height": 69
        },
        "outputId": "ac9a1d56-f75a-4b1a-8421-1bcb05b23cdc"
      },
      "source": [
        "%%time\n",
        "sum_python(10**5)"
      ],
      "execution_count": 5,
      "outputs": [
        {
          "output_type": "stream",
          "text": [
            "CPU times: user 446 µs, sys: 1.15 ms, total: 1.6 ms\n",
            "Wall time: 2.03 ms\n"
          ],
          "name": "stdout"
        },
        {
          "output_type": "execute_result",
          "data": {
            "text/plain": [
              "333328333350000"
            ]
          },
          "metadata": {
            "tags": []
          },
          "execution_count": 5
        }
      ]
    },
    {
      "cell_type": "markdown",
      "metadata": {
        "id": "lR3yrFF3it3I",
        "colab_type": "text"
      },
      "source": [
        "# Tensoflow teaser\n",
        "\n",
        "Doing the very same thing"
      ]
    },
    {
      "cell_type": "code",
      "metadata": {
        "id": "b86J1Ui1it3J",
        "colab_type": "code",
        "colab": {}
      },
      "source": [
        "# An integer parameter\n",
        "N = tf.placeholder('int64', name=\"input_to_your_function\")\n",
        "\n",
        "# A recipe on how to produce the same result\n",
        "result = tf.reduce_sum(tf.range(N)**2)"
      ],
      "execution_count": 0,
      "outputs": []
    },
    {
      "cell_type": "code",
      "metadata": {
        "id": "WfvbwNlJit3L",
        "colab_type": "code",
        "colab": {
          "base_uri": "https://localhost:8080/",
          "height": 35
        },
        "outputId": "87084ac5-42d5-478b-eb17-fc440a24f334"
      },
      "source": [
        "# just a graph definition\n",
        "result"
      ],
      "execution_count": 7,
      "outputs": [
        {
          "output_type": "execute_result",
          "data": {
            "text/plain": [
              "<tf.Tensor 'Sum:0' shape=() dtype=int64>"
            ]
          },
          "metadata": {
            "tags": []
          },
          "execution_count": 7
        }
      ]
    },
    {
      "cell_type": "code",
      "metadata": {
        "id": "Ui50VhD9it3O",
        "colab_type": "code",
        "colab": {
          "base_uri": "https://localhost:8080/",
          "height": 69
        },
        "outputId": "b7494617-6247-4f53-943b-586e77076494"
      },
      "source": [
        "%%time\n",
        "# actually executing\n",
        "result.eval({N: 10**5})"
      ],
      "execution_count": 8,
      "outputs": [
        {
          "output_type": "stream",
          "text": [
            "CPU times: user 9.68 ms, sys: 1.89 ms, total: 11.6 ms\n",
            "Wall time: 123 ms\n"
          ],
          "name": "stdout"
        },
        {
          "output_type": "execute_result",
          "data": {
            "text/plain": [
              "333328333350000"
            ]
          },
          "metadata": {
            "tags": []
          },
          "execution_count": 8
        }
      ]
    },
    {
      "cell_type": "code",
      "metadata": {
        "id": "CE0GGdfFit3Q",
        "colab_type": "code",
        "colab": {}
      },
      "source": [
        "# logger for tensorboard\n",
        "writer = tf.summary.FileWriter(\"tensorboard_logs\", graph=s.graph)"
      ],
      "execution_count": 0,
      "outputs": []
    },
    {
      "cell_type": "markdown",
      "metadata": {
        "id": "ig6SOzU5it3S",
        "colab_type": "text"
      },
      "source": [
        "# How does it work?\n",
        "1. Define placeholders where you'll send inputs\n",
        "2. Make a symbolic graph: a recipe for mathematical transformation of those placeholders\n",
        "3. Compute outputs of your graph with particular values for each placeholder\n",
        "  * `output.eval({placeholder: value})`\n",
        "  * `s.run(output, {placeholder: value})`\n",
        "\n",
        "So far there are two main entities: \"placeholder\" and \"transformation\" (operation output)\n",
        "* Both can be numbers, vectors, matrices, tensors, etc.\n",
        "* Both can be int32/64, floats, booleans (uint8) of various size.\n",
        "\n",
        "* You can define new transformations as an arbitrary operation on placeholders and other transformations\n",
        " * `tf.reduce_sum(tf.arange(N)**2)` are 3 sequential transformations of placeholder `N`\n",
        " * There's a tensorflow symbolic version for every numpy function\n",
        "   * `a+b, a/b, a**b, ...` behave just like in numpy\n",
        "   * `np.mean` -> `tf.reduce_mean`\n",
        "   * `np.arange` -> `tf.range`\n",
        "   * `np.cumsum` -> `tf.cumsum`\n",
        "   * If you can't find the operation you need, see the [docs](https://www.tensorflow.org/versions/r1.3/api_docs/python).\n",
        "   \n",
        "`tf.contrib` has many high-level features, may be worth a look."
      ]
    },
    {
      "cell_type": "code",
      "metadata": {
        "id": "9tjbEDPSit3T",
        "colab_type": "code",
        "colab": {}
      },
      "source": [
        "with tf.name_scope(\"Placeholders_examples\"):\n",
        "    # Default placeholder that can be arbitrary float32\n",
        "    # scalar, vertor, matrix, etc.\n",
        "    arbitrary_input = tf.placeholder('float32')\n",
        "\n",
        "    # Input vector of arbitrary length\n",
        "    input_vector = tf.placeholder('float32', shape=(None,))\n",
        "\n",
        "    # Input vector that _must_ have 10 elements and integer type\n",
        "    fixed_vector = tf.placeholder('int32', shape=(10,))\n",
        "\n",
        "    # Matrix of arbitrary n_rows and 15 columns\n",
        "    # (e.g. a minibatch of your data table)\n",
        "    input_matrix = tf.placeholder('float32', shape=(None, 15))\n",
        "    \n",
        "    # You can generally use None whenever you don't need a specific shape\n",
        "    input1 = tf.placeholder('float64', shape=(None, 100, None))\n",
        "    input2 = tf.placeholder('int32', shape=(None, None, 3, 224, 224))\n",
        "\n",
        "    # elementwise multiplication\n",
        "    double_the_vector = input_vector*2\n",
        "\n",
        "    # elementwise cosine\n",
        "    elementwise_cosine = tf.cos(input_vector)\n",
        "\n",
        "    # difference between squared vector and vector itself plus one\n",
        "    vector_squares = input_vector**2 - input_vector + 1"
      ],
      "execution_count": 0,
      "outputs": []
    },
    {
      "cell_type": "code",
      "metadata": {
        "id": "eedxbB7qit3X",
        "colab_type": "code",
        "colab": {}
      },
      "source": [
        "my_vector =  tf.placeholder('float32', shape=(None,), name=\"VECTOR_1\")\n",
        "my_vector2 = tf.placeholder('float32', shape=(None,))\n",
        "my_transformation = my_vector * my_vector2 / (tf.sin(my_vector) + 1)"
      ],
      "execution_count": 0,
      "outputs": []
    },
    {
      "cell_type": "code",
      "metadata": {
        "id": "zAP0KYsKit3Z",
        "colab_type": "code",
        "colab": {
          "base_uri": "https://localhost:8080/",
          "height": 35
        },
        "outputId": "5a64cf6b-4ae6-4c50-bd04-ce8fb61a029c"
      },
      "source": [
        "print(my_transformation)"
      ],
      "execution_count": 12,
      "outputs": [
        {
          "output_type": "stream",
          "text": [
            "Tensor(\"truediv:0\", shape=(?,), dtype=float32)\n"
          ],
          "name": "stdout"
        }
      ]
    },
    {
      "cell_type": "code",
      "metadata": {
        "id": "w2Gm_W0Oit3c",
        "colab_type": "code",
        "colab": {
          "base_uri": "https://localhost:8080/",
          "height": 69
        },
        "outputId": "e13b3242-f345-420a-ab5d-2ed162ba9b94"
      },
      "source": [
        "dummy = np.arange(5).astype('float32')\n",
        "print(dummy)\n",
        "my_transformation.eval({my_vector: dummy, my_vector2: dummy[::-1]})"
      ],
      "execution_count": 13,
      "outputs": [
        {
          "output_type": "stream",
          "text": [
            "[0. 1. 2. 3. 4.]\n"
          ],
          "name": "stdout"
        },
        {
          "output_type": "execute_result",
          "data": {
            "text/plain": [
              "array([0.       , 1.6291324, 2.0950115, 2.6289961, 0.       ],\n",
              "      dtype=float32)"
            ]
          },
          "metadata": {
            "tags": []
          },
          "execution_count": 13
        }
      ]
    },
    {
      "cell_type": "code",
      "metadata": {
        "id": "-UEmmDtrit3e",
        "colab_type": "code",
        "colab": {}
      },
      "source": [
        "writer.add_graph(my_transformation.graph)\n",
        "writer.flush()"
      ],
      "execution_count": 0,
      "outputs": []
    },
    {
      "cell_type": "markdown",
      "metadata": {
        "id": "5MMB-qpHit3h",
        "colab_type": "text"
      },
      "source": [
        "TensorBoard allows writing scalars, images, audio, histogram. You can read more on tensorboard usage [here](https://www.tensorflow.org/get_started/graph_viz)."
      ]
    },
    {
      "cell_type": "markdown",
      "metadata": {
        "id": "d9IsdU7mit3h",
        "colab_type": "text"
      },
      "source": [
        "# Summary\n",
        "* Tensorflow is based on computation graphs\n",
        "* A graph consists of placeholders and transformations"
      ]
    },
    {
      "cell_type": "markdown",
      "metadata": {
        "id": "lK8wBKhWit3i",
        "colab_type": "text"
      },
      "source": [
        "# Loss function: Mean Squared Error\n",
        "\n",
        "Loss function must be a part of the graph as well, so that we can do backpropagation."
      ]
    },
    {
      "cell_type": "code",
      "metadata": {
        "id": "J4clVOXyit3i",
        "colab_type": "code",
        "colab": {}
      },
      "source": [
        "with tf.name_scope(\"MSE\"):\n",
        "    y_true = tf.placeholder(\"float32\", shape=(None,), name=\"y_true\")\n",
        "    y_predicted = tf.placeholder(\"float32\", shape=(None,), name=\"y_predicted\")\n",
        "    # Implement MSE(y_true, y_predicted), use tf.reduce_mean(...)\n",
        "    # mse = ### YOUR CODE HERE ###\n",
        "    mse=tf.reduce_mean((y_true-y_predicted)**2)\n",
        "\n",
        "def compute_mse(vector1, vector2):\n",
        "    return mse.eval({y_true: vector1, y_predicted: vector2})"
      ],
      "execution_count": 0,
      "outputs": []
    },
    {
      "cell_type": "code",
      "metadata": {
        "id": "tdoiUXESit3k",
        "colab_type": "code",
        "colab": {}
      },
      "source": [
        "writer.add_graph(mse.graph)\n",
        "writer.flush()"
      ],
      "execution_count": 0,
      "outputs": []
    },
    {
      "cell_type": "code",
      "metadata": {
        "id": "NNs69iftit3m",
        "colab_type": "code",
        "colab": {}
      },
      "source": [
        "# Rigorous local testing of MSE implementation\n",
        "import sklearn.metrics\n",
        "for n in [1, 5, 10, 10**3]:\n",
        "    elems = [np.arange(n), np.arange(n, 0, -1), np.zeros(n),\n",
        "             np.ones(n), np.random.random(n), np.random.randint(100, size=n)]\n",
        "    for el in elems:\n",
        "        for el_2 in elems:\n",
        "            true_mse = np.array(sklearn.metrics.mean_squared_error(el, el_2))\n",
        "            my_mse = compute_mse(el, el_2)\n",
        "            if not np.allclose(true_mse, my_mse):\n",
        "                print('mse(%s,%s)' % (el, el_2))\n",
        "                print(\"should be: %f, but your function returned %f\" % (true_mse, my_mse))\n",
        "                raise ValueError('Wrong result')"
      ],
      "execution_count": 0,
      "outputs": []
    },
    {
      "cell_type": "markdown",
      "metadata": {
        "id": "de3pW_8jit3n",
        "colab_type": "text"
      },
      "source": [
        "# Variables\n",
        "\n",
        "Placeholder and transformation values are not stored in the graph once the execution is finished. This isn't too comfortable if you want your model to have parameters (e.g. network weights) that are always present, but can change their value over time.\n",
        "\n",
        "Tensorflow solves this with `tf.Variable` objects.\n",
        "* You can assign variable a value at any time in your graph\n",
        "* Unlike placeholders, there's no need to explicitly pass values to variables when `s.run(...)`-ing\n",
        "* You can use variables the same way you use transformations \n",
        " "
      ]
    },
    {
      "cell_type": "code",
      "metadata": {
        "id": "B2NX8C0Dit3o",
        "colab_type": "code",
        "colab": {}
      },
      "source": [
        "# Creating a shared variable\n",
        "shared_vector_1 = tf.Variable(initial_value=np.ones(5),\n",
        "                              name=\"example_variable\")"
      ],
      "execution_count": 0,
      "outputs": []
    },
    {
      "cell_type": "code",
      "metadata": {
        "id": "S2auUDpPit3q",
        "colab_type": "code",
        "colab": {
          "base_uri": "https://localhost:8080/",
          "height": 35
        },
        "outputId": "a90a59b2-b726-404c-f347-23f0eeb02416"
      },
      "source": [
        "# Initialize variable(s) with initial values\n",
        "s.run(tf.global_variables_initializer())\n",
        "\n",
        "# Evaluating the shared variable\n",
        "print(\"Initial value\", s.run(shared_vector_1))"
      ],
      "execution_count": 19,
      "outputs": [
        {
          "output_type": "stream",
          "text": [
            "Initial value [1. 1. 1. 1. 1.]\n"
          ],
          "name": "stdout"
        }
      ]
    },
    {
      "cell_type": "code",
      "metadata": {
        "id": "2GmC1JJait3t",
        "colab_type": "code",
        "colab": {
          "base_uri": "https://localhost:8080/",
          "height": 35
        },
        "outputId": "4fae0e81-ca6a-4844-f8a8-72cf1513b4d4"
      },
      "source": [
        "# Setting a new value\n",
        "s.run(shared_vector_1.assign(np.arange(5)))\n",
        "\n",
        "# Getting that new value\n",
        "print(\"New value\", s.run(shared_vector_1))"
      ],
      "execution_count": 20,
      "outputs": [
        {
          "output_type": "stream",
          "text": [
            "New value [0. 1. 2. 3. 4.]\n"
          ],
          "name": "stdout"
        }
      ]
    },
    {
      "cell_type": "markdown",
      "metadata": {
        "id": "XxxQF5yiit3y",
        "colab_type": "text"
      },
      "source": [
        "# tf.gradients - why graphs matter\n",
        "* Tensorflow can compute derivatives and gradients automatically using the computation graph\n",
        "* True to its name it can manage matrix derivatives\n",
        "* Gradients are computed as a product of elementary derivatives via the chain rule:\n",
        "\n",
        "$$ {\\partial f(g(x)) \\over \\partial x} = {\\partial f(g(x)) \\over \\partial g(x)}\\cdot {\\partial g(x) \\over \\partial x} $$\n",
        "\n",
        "It can get you the derivative of any graph as long as it knows how to differentiate elementary operations"
      ]
    },
    {
      "cell_type": "code",
      "metadata": {
        "id": "wIpe_hFcit3z",
        "colab_type": "code",
        "colab": {
          "base_uri": "https://localhost:8080/",
          "height": 89
        },
        "outputId": "d8e77e68-cbf5-4bfe-abef-941fc76a79ae"
      },
      "source": [
        "my_scalar = tf.placeholder('float32')\n",
        "\n",
        "scalar_squared = my_scalar**2\n",
        "\n",
        "# A derivative of scalar_squared by my_scalar\n",
        "derivative = tf.gradients(scalar_squared, [my_scalar, ])"
      ],
      "execution_count": 21,
      "outputs": [
        {
          "output_type": "stream",
          "text": [
            "W0802 18:25:37.873904 139990153832320 deprecation.py:323] From /usr/local/lib/python3.6/dist-packages/tensorflow/python/ops/math_grad.py:1205: add_dispatch_support.<locals>.wrapper (from tensorflow.python.ops.array_ops) is deprecated and will be removed in a future version.\n",
            "Instructions for updating:\n",
            "Use tf.where in 2.0, which has the same broadcast rule as np.where\n"
          ],
          "name": "stderr"
        }
      ]
    },
    {
      "cell_type": "code",
      "metadata": {
        "id": "J_YLepGPit32",
        "colab_type": "code",
        "colab": {
          "base_uri": "https://localhost:8080/",
          "height": 35
        },
        "outputId": "a2ffd3f8-8c21-43b2-c5db-43f728787c90"
      },
      "source": [
        "derivative"
      ],
      "execution_count": 22,
      "outputs": [
        {
          "output_type": "execute_result",
          "data": {
            "text/plain": [
              "[<tf.Tensor 'gradients/pow_1_grad/Reshape:0' shape=<unknown> dtype=float32>]"
            ]
          },
          "metadata": {
            "tags": []
          },
          "execution_count": 22
        }
      ]
    },
    {
      "cell_type": "code",
      "metadata": {
        "id": "msMKRM-uit36",
        "colab_type": "code",
        "colab": {
          "base_uri": "https://localhost:8080/",
          "height": 269
        },
        "outputId": "accd1813-fc3a-4942-a531-bfb80515acd8"
      },
      "source": [
        "import matplotlib.pyplot as plt\n",
        "%matplotlib inline\n",
        "\n",
        "x = np.linspace(-3, 3)\n",
        "x_squared, x_squared_der = s.run([scalar_squared, derivative[0]],\n",
        "                                 {my_scalar:x})\n",
        "\n",
        "plt.plot(x, x_squared,label=\"$x^2$\")\n",
        "plt.plot(x, x_squared_der, label=r\"$\\frac{dx^2}{dx}$\")\n",
        "plt.legend();"
      ],
      "execution_count": 23,
      "outputs": [
        {
          "output_type": "display_data",
          "data": {
            "image/png": "[encoded data removed]",
            "text/plain": [
              "<Figure size 432x288 with 1 Axes>"
            ]
          },
          "metadata": {
            "tags": []
          }
        }
      ]
    },
    {
      "cell_type": "markdown",
      "metadata": {
        "id": "dRnuIw1tit4A",
        "colab_type": "text"
      },
      "source": [
        "# Why that rocks"
      ]
    },
    {
      "cell_type": "code",
      "metadata": {
        "id": "WU62aQbVit4B",
        "colab_type": "code",
        "colab": {}
      },
      "source": [
        "my_vector = tf.placeholder('float32', [None])\n",
        "# Compute the gradient of the next weird function over my_scalar and my_vector\n",
        "# Warning! Trying to understand the meaning of that function may result in permanent brain damage\n",
        "weird_psychotic_function = tf.reduce_mean(\n",
        "    (my_vector+my_scalar)**(1+tf.nn.moments(my_vector,[0])[1]) + \n",
        "    1./ tf.atan(my_scalar))/(my_scalar**2 + 1) + 0.01*tf.sin(\n",
        "    2*my_scalar**1.5)*(tf.reduce_sum(my_vector)* my_scalar**2\n",
        "                      )*tf.exp((my_scalar-4)**2)/(\n",
        "    1+tf.exp((my_scalar-4)**2))*(1.-(tf.exp(-(my_scalar-4)**2)\n",
        "                                    )/(1+tf.exp(-(my_scalar-4)**2)))**2\n",
        "\n",
        "der_by_scalar = tf.gradients(weird_psychotic_function, my_scalar)\n",
        "der_by_vector = tf.gradients(weird_psychotic_function, my_vector)"
      ],
      "execution_count": 0,
      "outputs": []
    },
    {
      "cell_type": "code",
      "metadata": {
        "id": "6egxOybXit4D",
        "colab_type": "code",
        "colab": {
          "base_uri": "https://localhost:8080/",
          "height": 269
        },
        "outputId": "10aaba8e-1b0f-4493-9ae9-802d88137f72"
      },
      "source": [
        "# Plotting the derivative\n",
        "scalar_space = np.linspace(1, 7, 100)\n",
        "\n",
        "y = [s.run(weird_psychotic_function, {my_scalar:x, my_vector:[1, 2, 3]})\n",
        "     for x in scalar_space]\n",
        "\n",
        "plt.plot(scalar_space, y, label='function')\n",
        "\n",
        "y_der_by_scalar = [s.run(der_by_scalar,\n",
        "                         {my_scalar:x, my_vector:[1, 2, 3]})\n",
        "                   for x in scalar_space]\n",
        "\n",
        "plt.plot(scalar_space, y_der_by_scalar, label='derivative')\n",
        "plt.grid()\n",
        "plt.legend();"
      ],
      "execution_count": 25,
      "outputs": [
        {
          "output_type": "display_data",
          "data": {
            "image/png": "[encoded data removed]",
            "text/plain": [
              "<Figure size 432x288 with 1 Axes>"
            ]
          },
          "metadata": {
            "tags": []
          }
        }
      ]
    },
    {
      "cell_type": "markdown",
      "metadata": {
        "id": "r_wx5nzOit4E",
        "colab_type": "text"
      },
      "source": [
        "# Almost done - optimizers\n",
        "\n",
        "While you can perform gradient descent by hand with automatic gradients from above, tensorflow also has some optimization methods implemented for you. Recall momentum & rmsprop?"
      ]
    },
    {
      "cell_type": "code",
      "metadata": {
        "id": "Cip7Roi-it4F",
        "colab_type": "code",
        "colab": {}
      },
      "source": [
        "y_guess = tf.Variable(np.zeros(2, dtype='float32'))\n",
        "y_true = tf.range(1, 3, dtype='float32')\n",
        "\n",
        "loss = tf.reduce_mean((y_guess - y_true + 0.5*tf.random_normal([2]))**2) \n",
        "\n",
        "step = tf.train.MomentumOptimizer(0.03, 0.5).minimize(loss, var_list=y_guess)"
      ],
      "execution_count": 0,
      "outputs": []
    },
    {
      "cell_type": "markdown",
      "metadata": {
        "id": "zSNpqihUit4H",
        "colab_type": "text"
      },
      "source": [
        "Let's draw a trajectory of a gradient descent in 2D"
      ]
    },
    {
      "cell_type": "code",
      "metadata": {
        "id": "M3nEyts2it4I",
        "colab_type": "code",
        "colab": {
          "base_uri": "https://localhost:8080/",
          "height": 269
        },
        "outputId": "07c33151-233b-4ba4-dc04-a5bad6d2c216"
      },
      "source": [
        "from matplotlib import animation, rc\n",
        "import matplotlib_utils\n",
        "from IPython.display import HTML, display_html\n",
        "\n",
        "# nice figure settings\n",
        "fig, ax = plt.subplots()\n",
        "y_true_value = s.run(y_true)\n",
        "level_x = np.arange(0, 2, 0.02)\n",
        "level_y = np.arange(0, 3, 0.02)\n",
        "X, Y = np.meshgrid(level_x, level_y)\n",
        "Z = (X - y_true_value[0])**2 + (Y - y_true_value[1])**2\n",
        "ax.set_xlim(-0.02, 2)\n",
        "ax.set_ylim(-0.02, 3)\n",
        "s.run(tf.global_variables_initializer())\n",
        "ax.scatter(*s.run(y_true), c='red')\n",
        "contour = ax.contour(X, Y, Z, 10)\n",
        "ax.clabel(contour, inline=1, fontsize=10)\n",
        "line, = ax.plot([], [], lw=2)\n",
        "\n",
        "# start animation with empty trajectory\n",
        "def init():\n",
        "    line.set_data([], [])\n",
        "    return (line,)\n",
        "\n",
        "trajectory = [s.run(y_guess)]\n",
        "\n",
        "# one animation step (make one GD step)\n",
        "def animate(i):\n",
        "    s.run(step)\n",
        "    trajectory.append(s.run(y_guess))\n",
        "    line.set_data(*zip(*trajectory))\n",
        "    return (line,)\n",
        "\n",
        "anim = animation.FuncAnimation(fig, animate, init_func=init,\n",
        "                               frames=100, interval=20, blit=True)"
      ],
      "execution_count": 27,
      "outputs": [
        {
          "output_type": "display_data",
          "data": {
            "image/png": "[encoded data removed]",
            "text/plain": [
              "<Figure size 432x288 with 1 Axes>"
            ]
          },
          "metadata": {
            "tags": []
          }
        }
      ]
    },
    {
      "cell_type": "code",
      "metadata": {
        "id": "x-4AoeJkit4J",
        "colab_type": "code",
        "colab": {
          "base_uri": "https://localhost:8080/",
          "height": 309
        },
        "outputId": "be989f40-aa7a-488c-da5d-3a70e4022e9e"
      },
      "source": [
        "try:\n",
        "    display_html(HTML(anim.to_html5_video()))\n",
        "except (RuntimeError, KeyError):\n",
        "    # In case the build-in renderers are unaviable, fall back to\n",
        "    # a custom one, that doesn't require external libraries\n",
        "    anim.save(None, writer=matplotlib_utils.SimpleMovieWriter(0.001))"
      ],
      "execution_count": 28,
      "outputs": [
        {
          "output_type": "display_data",
          "data": {
            "text/html": [
              "<video width=\"432\" height=\"288\" controls autoplay loop>\n",
              "  <source type=\"video/mp4\" src=\"data:video/mp4;base64,AAAAHGZ0eXBNNFYgAAACAGlzb21pc28yYXZjMQAAAAhmcmVlAABOOW1kYXQAAAKuBgX//6rcRem9\n",
              "5tlIt5Ys2CDZI+7veDI2NCAtIGNvcmUgMTUyIHIyODU0IGU5YTU5MDMgLSBILjI2NC9NUEVHLTQg\n",
              "QVZDIGNvZGVjIC0gQ29weWxlZnQgMjAwMy0yMDE3IC0gaHR0cDovL3d3dy52aWRlb2xhbi5vcmcv\n",
              "eDI2NC5odG1sIC0gb3B0aW9uczogY2FiYWM9MSByZWY9MyBkZWJsb2NrPTE6MDowIGFuYWx5c2U9\n",
              "MHgzOjB4MTEzIG1lPWhleCBzdWJtZT03IHBzeT0xIHBzeV9yZD0xLjAwOjAuMDAgbWl4ZWRfcmVm\n",
              "PTEgbWVfcmFuZ2U9MTYgY2hyb21hX21lPTEgdHJlbGxpcz0xIDh4OGRjdD0xIGNxbT0wIGRlYWR6\n",
              "b25lPTIxLDExIGZhc3RfcHNraXA9MSBjaHJvbWFfcXBfb2Zmc2V0PS0yIHRocmVhZHM9MyBsb29r\n",
              "YWhlYWRfdGhyZWFkcz0xIHNsaWNlZF90aHJlYWRzPTAgbnI9MCBkZWNpbWF0ZT0xIGludGVybGFj\n",
              "ZWQ9MCBibHVyYXlfY29tcGF0PTAgY29uc3RyYWluZWRfaW50cmE9MCBiZnJhbWVzPTMgYl9weXJh\n",
              "bWlkPTIgYl9hZGFwdD0xIGJfYmlhcz0wIGRpcmVjdD0xIHdlaWdodGI9MSBvcGVuX2dvcD0wIHdl\n",
              "aWdodHA9MiBrZXlpbnQ9MjUwIGtleWludF9taW49MjUgc2NlbmVjdXQ9NDAgaW50cmFfcmVmcmVz\n",
              "aD0wIHJjX2xvb2thaGVhZD00MCByYz1jcmYgbWJ0cmVlPTEgY3JmPTIzLjAgcWNvbXA9MC42MCBx\n",
              "cG1pbj0wIHFwbWF4PTY5IHFwc3RlcD00IGlwX3JhdGlvPTEuNDAgYXE9MToxLjAwAIAAADJyZYiE\n",
              "ACv//vZzfAprRzOVLgV292aj5dCS5fsQYPrQAAADAAGq1jzipe3VQKREMzn+ud2GzbOJ43BPcMYj\n",
              "i93Y+Em0ioSb+61aEWEM7dcbRaivTOm4o+VA8ddAAAAFKlUSisUnKcUIhincww6T5PkKpaK19RDU\n",
              "XBPH/pmpmIqHtCYyZf8TZNeLqtLPBRS0zroJvm/0WhHZqHT4sVJ1A0QYyaRH3tm9j8pH6isGYwLm\n",
              "p80b8MFL5upDVMndNVIe0lPtZtq21Dpj84mws4mZKNEZVvfHjNmlvtN2GMNO5l4ylcOc33zCq1wk\n",
              "LPnp9m84I6D4NP3kYl7Qq59cuOH75TPx64OS7N4Z0DPeUwuOKqaVoPrXKk4mlhXQrU6jhfvC6QjJ\n",
              "cQhID7TroGsiNeMxdj8GZGCcPPTtxLa0QEWdQjVZEBd4+mMYwV/aOk2fsfT57cp18uVynvzjd/Eh\n",
              "E81ZKCMtDSiVmpEUsM143oeaGZxPgU5d+UImDim3Kf9X6RiArcbric5Rhm+DjNnncfDklslLzSH4\n",
              "o5ikhdkEjH491aNhpc96SiUcMErPRih5z+TUfhvZSoCJFl+5eJCYjlJ4Gru7LQf7d3M4lHcjjcZP\n",
              "magiNyPja5G+MwpcF5+QwdE1XnMUcOLtFxgWuJbuPlXjjh/48o6kKsls5by4V8xeDWf6a89zSK0n\n",
              "YT4qUZhw1ppSO/Z0rdcf+Pj5fvJI1Qx3b72qFnH9ANCQ5JgTOxcCgR69zhsBlnSI2YRrVse2RzDK\n",
              "btG61oFziQCzb1Zv2CyGFe1F6K7laxnL1rBTNbgIbAIPamqn1dqWqA5U+O9UpQKI6l+RcdvbKlhU\n",
              "N5SLOZj5tAsL75sLJpSiG14HVL+be/bM3Bz2u2iWUKY28dLQkHLejAn9Wp+4N+WDEOrJv6g3S0zJ\n",
              "vJhy227JUNMVISDm58faibtO8S8avxs3/VA65hFNo9zbKnY/cVNd9bsRIDAZE8kGOKzOVJwS423k\n",
              "nkjdG1V17N2S2TBrpNHpQMSqZ40y1lEXepbWzdgHDFA7zrDbDg2dIbp2jo+MbeWlOwYn2e47my8A\n",
              "dv2A8sY/kc1BXtGx+5sWlQs8x6dZZjnamqjjd8JPYNeB59WIQUJRYqYakVfilNBrJaYHEXHrmU4e\n",
              "wCi37Aw6vt0BP0ZxDboAvcGkebH1nDHsFLr2weQOSSQyBn+5xj8oxi7tFAe13LCVZ+5coBc/PWsr\n",
              "QcbmO7B4S5dd3vxBL3baZDsEJligYDRbM1gZO930T2U0v/kYJ3ztOjRw9XrcA7YjNn1kPYJr/bxP\n",
              "amVkcN1B0uYgxMET6367rDt2jeO7ggdQ/aVMQUFSUuWHnVRwufJ9qeskqzufbmIrgUMEQeokz1u5\n",
              "Ac3xCC1wK0m+i6hz9jjDUgm7SseFnjM/skXKVMLodvUQcRABO5KZWFPAhwsm7KqsJfqVIF/Mt+Uu\n",
              "w/8ZwUn23OdZOJiaZLtTCsJWROe4tJdSvHaAJ8R44K/IZWIh/zkUGaKcKsAhwlvaMyhzzJnjyQqE\n",
              "49Xl9si8bEANZ43iJgr6dupi9ZemmXAwnL+I6A0sUQ1i2E7+i1lgjHwhEfT0sN2WkKZpv/ABtR2O\n",
              "0lg5Hm7cl+LPq2IGf3p6su5C0y061d4hXiB0Sz/dsbR8od8n/Ocy0vd9DdOemY+4Ts3IG269/y0o\n",
              "aMSBsXo0m7F2BWfaKOT5AsvR4y5HzM1Fn3PTlRb1MJvtvRWlwyywnLO0FR6Q9dqnFfzbK+LqwtPg\n",
              "g2kAOWpFpyZqquzdxZ5gt8iTwYHIZvSVQF/owfFgP03+Wz4KrIWcvAs8JUj4wDO4L8FVucx/YDSC\n",
              "pC27a837HYaNioOzt1timLBjYBJIsQGiXvOR5Urh88HlVCDxAcB0Kql80DBfeFwLixMwToED/Syi\n",
              "1kDudVLbfPUhItNw2AwaTFgu35tSwEiGA1SFWhZNNCSEsBbHFMTV9BUeclTw0bDkAgu2STlpLgMJ\n",
              "wCH3m1RdBTagkqHvS/ZoxdRdiLr7OS9dxZbCXpPNGmooaB23CrrtXzYrUazlsDRZSh/RrLIyDfBi\n",
              "8vF6quaEq9Yz/pWwoMH/BqB/iS73KwTn15v503d4sIqh1dE8OVfyN4aDoldjWrwKB76T40DaLKVh\n",
              "XDtMmLAgKX1VZ21aYuCw/QQ5ZzTWD8nCHMumHcV94pj9IPXpkgtesLUjcHiZBaNELbPkc2O+qyu/\n",
              "//7KwW1t5MXPsZRWeGLzRm9QomEl5tu7t3JUADTESttZNo+zcqFCVXz29xqr3aXvF/RVelHPYGF/\n",
              "+8DxzBklvrYmAKnaeJbKuizzjZKCfWtWRzkjgYNCX8+1nKwgvDV1FykaUG76ieUggZXft/SgXDts\n",
              "rYNlnO642XSr7IisX3j2tnvpXLPl0SfPCpGVUy+5RkHmjkiEIoQC4pcxTx0lq1Al+GuTPO2+p1PJ\n",
              "hhDB796j4Zo/MfNmt/8tQvIB/QHC7PV0AwegtbaGmWTCMijLaTok5VQFERylQoXt4UhABKirRWZT\n",
              "dLWs83EzNywETwtE2msOsWBXKW1XeuCYccIuNUvKZxCEBoZRL+4DyiWGDoOjP0Wcq5xzfvl2WQVu\n",
              "iBBKosalAJMjgcyg9tRaRvzvd+49SuqyVqaJOECq5L37lIbJbAvenFJbdg/CdFqadUZ0uVBzF2Pl\n",
              "vrXmEij2F8FkE2pqlUqQaEmwo9uOs1miNhjtJoXugV9onVCIAYuZFOg/Ps+W4RvnnmV3kc95AWsl\n",
              "Q+PpENUH2VI70x4b0yLzMR/a0YmWoYvVXPQLHO2ARF5ykoIRTuYzQqfLSArzOnW0AdqeVrsHp43Q\n",
              "2dsataI/v+7ZJALZHyLVWMH/y7r5Ie4PfbbvZEU9hMtBtccoIlHAqj59OB1FrtpHDa+qZ12kI36v\n",
              "pEiYv/SO2FLZv7hZhAOcqzasFjIRP2l7nBxPqiCo0SWbEI1wYSyuzjO5K/NfFsX274XPUSiXrbqO\n",
              "OEavzRnmbUKOIpgxNiKSnhUVzudKW7vxv/D9L+afe7UfQCk3OqDXdRa9qPddZcoZ2fdOmihDD3CB\n",
              "O1IetGbE/Xa/YZ7usqymz63YjGldABtiq0aCIszeu1GtgCGkfajgpAkeSJS3vi0tSQDVL5Lbjc0/\n",
              "s6fusOjN/0g7NtsRyC1xnc70ytGbwUWq5aFGYW6DUbwQCM78ZRN4et4txHxjAmfGgMqcTdGhKiSO\n",
              "GsQmK4gqewaGgtAQYdNLGqhgFp1Gv7rbzC/GB/IchNLw68qA5wP9IerzkiP5ez98zMG9Po4CfAJj\n",
              "7gxnH4b1aoPns+dkErDErL6n5ebvqZwofTNaYmwTllLI08bswjKiWpikuoF8bTDiqeeaye3rDUmS\n",
              "D85Z0ZK81quqfTVt4H7N9Y9Xi0YzecyMYImJmMqfSSFI/PQqUQb6aTl7W9lwCn+j7SfW9L1AXFPS\n",
              "EDvlWEW4o/fiYSHZpoY6MjcG+4B3pjmI5vUfde9UES4MBTKINS8tGjbQ2sVhNjEc9DGC7hv9Vzc4\n",
              "3/PvL1vT1NL9a2do7hyieOPKb181ZLgmLYKbutE5ceXvhYauvp6Y8D1iXisk0Icc4cG+pD4T1Tz0\n",
              "RU2VITijr1wDy+t1oMOD6tpBTicOzrQ9WOV8XcTqjL3bhhu5zwrvOrnVd1onQ66RsuFdYjbNZtmu\n",
              "BH8v15L2F0H+bwX+czeyq0M1h9kVeveCGdnvjqE1PbcsQOnYeLxbA0Z1IoTqwV3hGGJk4emrVqJT\n",
              "Mt9LsyywvucTPiEX81r4RxOJwkCvsaU8SKCjNDcoxsT3iMYf7rpDhq85xPQhHfFMQmzVmanR+uiS\n",
              "Z1qSbevtysks1CJ2MMezVpRlhmHKC6+vLwOvIDrh9njG3IR7gy63RZxRiKeLfi5fZJXvOWvMZw75\n",
              "w5hcYZ/iinxm+7znJsEmOlr+t1g07hD1Q2N/+WcLYOuBETrvmv0TF1A5Zvh8uOiwlWcv2jqE/0/0\n",
              "bWSJ76x9HPaE0Hl0GdHX2TEIrQ//ww5P2oQYSmqINOZqJjxbt9P6NnlvrjFfvn+kvgGNdrjn6QF9\n",
              "yaaNoa0ha8A4eAc2ONCAZah2OI8nOPpaAiyTbthphwk5RzaJlBWk76ajfwTr5HFXLUBbjh2ePeVr\n",
              "Q+tKa+AyS9K6/ZtCJ5jofC3xAhd8BVOBR3cFJOrXGDPoaphHoNRYf8rG/N/ceCQs/+yLrebz4CNK\n",
              "Ix4R6YohVWCqZvjkdcVGP1QIsV2jlaAy3TyxkXHb8ynXO/rMW3O2z5yZJJeaGSUgfJeSAW49/7Sn\n",
              "aqCevLiajTo+TFvd7EBhoHLXROxcYf//1Bzi8cJJFQ9Yjy+7wEwjvOuzFJCfqAgckaCg3uqFyhfp\n",
              "T0K5L+sQp4Oi4mXMyua8PWsBg6hBZcaghWYeNeJ2DxUEah8zaZOYdlISC74tYdJROti9mukJgaEu\n",
              "ayp9oRzMhZSG0Sm1u4SGSnlLMhHT+zG165JUUiBDKoP9qtZIzXOfyA5cLoHYWDJlJ6npV87AnF3S\n",
              "GAlcpDyBSIRhLibR9LKvM4QogZhBEWjaHUnzyiCC3EFvyYAIG4to6xqIDF2PXVzB4vavy+tw/az1\n",
              "N4vjthJL0gnNvRra8WsspYupBJE+6fu8JRZ9+n9m42SCEXAZrFJ2Q4bUdO68lWpCFGkMG67ViptI\n",
              "L+Q8mgEz0OPvq2T684kQ7cGmr+ZDcOYhc1bjFfg3XLC9KXJEMD7Mg2jZ5TfOgl2mXBSx4LRSCADI\n",
              "2iJ+GQvqavKNK+mykr1rZl97dhPi1tW3/fe9KY6OiJRDydxftOa5u1xWICWVIXCUE8PFdj4FfchK\n",
              "CdEMxHoLbyqNEK2t549SDn7U3/T/q0KofA1bHqKIZf8EtWJ8mXh4oeZP0jLjeymgY1e8b7mgfuxK\n",
              "LtGeKTaW04b1p4HfuMCtwOyQPHJNya1G+zfcpysfTKoqSi9PFXcoJsO4byabZqBxqN/QoE4RTLqw\n",
              "sImHt3TGItKyI1tVaRZBPsH8aAc1c0uwfPzIT1InQbJe9jzy1YwqsFdgblLfFjvoCiOfXVmra4AA\n",
              "T7C2CdowXTkRuoQqHrfXBs6X0SVPq5vQl5t75cOhds/jnlryFicy1cHr88Cvar3S9xeOQwUmxmLB\n",
              "BM29Aov5MDAojhtwQO1vw6PvS3bc6o+PVICRuFmKh0c2+YIPSthrYG/Kebo09rVpRil1W+YGa12l\n",
              "y/YOakC8HRVLasypu6JqZUA47YLJ9J3fmWp404IJFjINkOAwdHIq43jKxk1ZNgxwfD4Pdn1FvKRg\n",
              "Ii5q96MNPDDHHTMsCLjyW4x+2ySr0ltpxcWFGxfco+N3y22fqSaiRO5r1GM7y/VradOZOL/eFeEb\n",
              "/+OcAWiAOlAtvmu+eVIu6vxXH2gwA+kjPt4WZVCQUz9NGrl5H+pbI6aftocjcTU+6LMYSrvi+TZ9\n",
              "Kvmum8ETBq4H/N29ZnqoAtHtPPhzZS8lS1d6vSUsNHkNgEu8o8YfkqjXB58VjCu/n2SwlL8Gd7XX\n",
              "6Fwc1YTCKBFt6TB5SGLcMo+505UE+aDWO5oeHy86h3YlnIBfgBoxLUUzXaJAcfUsdmR1v6usRhxv\n",
              "22s1AsyyC4QAwLXHF66gxrnrG5hnCI60A9x1FfiMCqzAZ6ve8LYY+tKOuxO1w/S4kqvGYhWCgNFg\n",
              "nFw7rkexOyHMeCL8vKwVpIir/ecfZSIaSQKnSd9q9vlzbktgxupn/qC0hcgxogsU+mopjK8QX47C\n",
              "xN8fci/LjnDDSMyvNvoST6+/JIehI/9VRzfYAtaA21fsD2wMd6C3FMav+JbhRnAxiK7uMpx/ow7b\n",
              "ytsqxIblXSOWFcaAAM7l3gk1lugNOTKFfZgmPcrZXDq3mtpOp/CUy/H1UHE+X31kt+IMvrmpupV/\n",
              "kpk4wcfxVKjD8m1hZbTnjELKSMnxHSDquMnF4HOQZvHT4xllG8UkAamybsgLmSYu7vqsc3R+W9qX\n",
              "HP5xqitv2UfoOE4Z4dS/KUiF6+XJ/kEGy3g0Na+JHk5MJ2Z0uGVxMX0E7SPT8BGvJhN/lz6vsNOd\n",
              "08JXQFXM5ep8LtW7Vjh/HdlqhoY1O8l7K2fXOb5zXVT1Z0+HWHX91o/yUZCH0yzOFZz1IuxNZEkU\n",
              "pQ+9zw+itXtctKgxkpg4/MVVdqHVfBo8P1YBkkNXeAd97XTud1P4jsSyKzho/GQU2K7003JVeraz\n",
              "FgCDGvSnuCr9fAGBE0chqzN/gT2bLQ92vRiNcQnGW/NqexkU8KWhqeeb3Mwqy2dvdaObSmbHpk6b\n",
              "JNkraHatj5YRfr1SCLOxz6xGTftfBTcf+4x7EolaVnw0Qej4liHVSdEznPk7pli00HCd0RnXFFy8\n",
              "dZcEyGsk4saAxScigYj5N2ddua0ck7+L2NgU3Y4USQhIrftm54T/CIRWznOr0BMz+wjIwvcAqf2t\n",
              "fKFmBbfCnoWh6av/deWKKrYZ7tMOjwBhbWu0nglWorqhIRLqGd/5oSrArcoOkf/1vN2CsOQe3PY4\n",
              "kN5C0nUtpiVXi0xWgSqAVjHJDif+yJi8Ykg3iaUeivxDY5Z0Jd0n62WYndXVxgsj6l5piae31VfS\n",
              "4jdm6fZMfOPN/az+W+ERIqIqN2t8yOgx1asdrQM/s23qJfanYqwYRmIHLj1H23z4n2enQvwuVv/T\n",
              "Mpys39nn7ZaVeqmRsw10wx5wBEPwhY4Ne5sZeV40hWVKkQtj7QQcq3hx7/0pPHiL/ecacaO38xJj\n",
              "4s0fRNEovS1o4PHQtq3UETuX/mEhyz0MIidxTSLGjk2Lv4WMCVL2VXxyE+61onR9MZzYDOnRcrFs\n",
              "q33n2UaNJlmGKQVH+Zpdfp7Fhg8/Wue0d5SDvzWjmIfre/ugF7w1SURvv9CdxlAOVVJEMftTnZ1P\n",
              "hHS7ucNtowkjMXoy1Z53up8ivhPZ0Kk/oMR1EdziYf0Z38nkzV8DD/vhLD/dWcze8vNZc4/Nr51p\n",
              "NErPFpG+bkzQIa4MmhIxt2VBhqGOUrXTbtvrs26P7OrNwzRksglQymnLcxdKZgkOPR1EoW8X9Ega\n",
              "zq91j1YCvnwJq8lJ8v8/Ajv/eNVTYMbWV+2vy9fZPxNbPm25sodtwaglc4CITHJQ2An4XXzVLaTc\n",
              "ZQJFzJwNNG/dKgzu5QHFeaP1ppDFXVqjtZgQDwSXrNR5SlU5dmd3tw7mzO+aw9VSQk8bf3LUfD/l\n",
              "LBLU/4LpADSu8NSspZ0C3okKig4xbAbC6laiABFAUShueMGEuoOmjTxik83X+EU3KXAHsR5kqwBk\n",
              "UaR61kN2zmDc+x+Jxe4Lyh6d4b+SSV+lWJugn1g/NGWd6Cw8fOU6CaBcikJk0b83REmO8fREstEF\n",
              "gv9tH/T0uvMzgBXp9feDXhO64TMJkMlU/9B38g0564foFFNeChMa2EHtgTvrLbjv1/GQGAatbYUg\n",
              "M1E4bVgtRf4kXb1pyZ0PEkfmGmjQE4gc1DCbWj6D3ryPUbA2R66bBsanlzr1HrcFhrx6U4JYn95R\n",
              "qsoSH516Z5dINIlqO51AOw4c1V7lKFaIVcOYDKNhH+w2HckG8LIwT9DEy5Ww/f4Rc4VGAH5d7Aza\n",
              "o7iXdQ+xlsWhQO/+dk+z7hrzwyuloLjmrUBzqmUC487OeEn/VVuHh3Hwi2l1M12QPHdPCNKS9JiZ\n",
              "aMbei2Qzag/N+JM7AbhRFgIeGG9YnauIUyziiI0sF+HI7Wj7g/QVIhqkF3JPuqa1OtQF4sLNkFGK\n",
              "6+BamVkZPjVsvnwyYFsPl3npfd58BUn6o9W4lUCTtoMO55e6FENxV5A+FfgRSfkqyVf7MQy9H291\n",
              "Suj/Wu3V16JeflN9TWKbwr/Z43LA1wF0cmEx83qIpMx/jl60iDmmMGk21fimQVW7g938nWsjgIT8\n",
              "cv7tAreWdBTVMt91eUp/MB7wEVoF2gsY7hPgDoIvZLmcTHcQ0B3XMoDIerzH5UHf9aYmv4cIs9PN\n",
              "7X76rs8dLrYC8z/DFL1PEwpxqfHg1LzTFDM1HL7iwNg5XWVqwi21c3BUuVqjayfAfgHCEfOyBEQM\n",
              "87zm+6hnXrSvJyoZ3YOAufSNDbgWAGulKQWFOx8lbHksENs8TcoUJGcnIx9CDs3sTHaKfc6TTP1Y\n",
              "1cyG/XSCbEBZY3pgQT/YZUdihS3ehTfEHgT7sjy93kZ1dvKUdEFDKQQFJbKuP20ebH2HelGsW8C4\n",
              "QuVC9zwyypbJcIXsLaksUsyN5UVJiNw+yG6rY2F+ZWv/8EMHAMof1bkzHo9Yyj6CRvKdQa10o4c9\n",
              "5qxxGcqFO7/zfc8+sVtCISW+WPaPL36nALSTxFsx+w/qW1byuvWu3gYiCtiOlpjL73uIrwWtwQOc\n",
              "vgzUAnB4+GGOoU9EJrT+0BFfpeLZSja7RqjbRZtj/5vCYQo0BCDjaHvqlr6NGl8TLTmWNO6JsVbO\n",
              "8fi7HVWR1ue48xda/ljuPqphjqvcvlEX2iTkTVRIn0b+tR3kLvV/MVn7WRiruBjbNMCOHZJXknrT\n",
              "jq0QLZ63q2p4Dnu5bzqofHYci/LQdgnKa3+ZCN78fTNpuTlIGrnuNH2uEHET+MyTJlfi80058R8U\n",
              "R6/JrxKGsw0eGb9u7yOdnGkW9DWTTxdCiDLcsfa280dz0EDeWSssxr0WCq5ZOYbC9Wo1cM0jIYeF\n",
              "LrqhCpRxUPkGOx/UZdkeh0LL+00SDI4VEKRla9J88jCUUGkhYGsDqaxpHZc6Y/c3SbzhLhUe0N1U\n",
              "ur/gTTJ55jnVE+/5+wBg9STCOAoQ8ue7xJM3lGCZ22ls3J79YV5R/8k/oienOP89HTi7gkVUE3VC\n",
              "uBHhIlJHSMIryzLXxEaTAuB+gQhcG8gLvfGXYAnm63F1NC6ew6hdohueIZpUcw8wf8hWZ15v2sTL\n",
              "E4Z8QWM2MWbqmL4/S9GG8w1Cp6+NZ9Z6CvvoubTf6oPs7oqseJTf2P1QNCOhk7Bx8xgbsWVbjsuQ\n",
              "8zCmS6YsIjpgctAxW0fgsXosxpiwZgoSNoWGV9e8XKmvgSXgm4NPHx2EkCAlhDfCfn7lXnsBQeSW\n",
              "VjJ4iB5shS/R437smW5uDeBQPRfx9U88rFOgGuxrfKDLmup3N+olT57J4ffqhTacKtxVVxmlb/lT\n",
              "7fBNZOrPvwtIu67mnMrac7gg0XqeAe59rDhCNQ4HZ0zSKeXIpeDbFTrwXqTiHmXxMo71TMrII8f+\n",
              "Lm1nYmYKCTDInYWCMonHtM8lq3wDVHVbZ/zZ7Dep2dcXBGrDj2ocNssB1yizRDEQ6BsNGKViOBbM\n",
              "6Mhq3jZ9flXaEooKQwNj1bhXMFvYXlftfgSEQBJaKTUCQ9sJtTeOFNvZ5hq+uQvZefClrc9Lt4Nz\n",
              "MGTrDSM2+//hR4TgAa/AiZYEjj6btqLylWdB1tEfexFw7R8Z0N1gc30eJIHH5FpVeM9eEwwx9c6H\n",
              "stJul23YLSeGwZp+rrTjQkorhWzKbb+wlGEf4T7XLPqlJlU0DHAHbVKe5duDdQ9r5wFOc5jDNNeM\n",
              "xAd+oc82H1WMoqKGNNikjUa/aRUIhjl846VO2XhKFEM/vQY54BO0X951k80BL6PLzSuDgH/0BKdg\n",
              "n+d8GMaqQbG7CkD3GhQw1GVn13tio+vEmFmGUIyxY0jyA6m88oxJfAqMd8psnO4zneBaDbOJ+Yqw\n",
              "9iebCeG1VefqVR/UWo4UhGa3ylMzuz1w2Vd0n4U1TVEhcXZYk1uQ7VYgcqHA5tc1hqWkj+bXXn9H\n",
              "7BMZ6mSH9OiN/Dulh1QJ4pifWQNoBGGnhM6W1CpawRZOmEK62ylkWkGMLSnRnt5Pi9KcFufSpsMY\n",
              "zj4c08cueAV42xOObCOUWHd0d9AH9ptBIfOKNojdsK/AopUCSnFVWDhkXMQQsNugWkB73tekB1db\n",
              "pnLyMZdGNew++9OLrTrU0jC9lS+Ucr+lx+CW2KPGNstkcetb/M0y8Eeejqh2TEGa8zRNM3rYCPO2\n",
              "M6SbLNK7NiCGv4rpefvuWHVigHOqC7/C4m7CqQuBQ0Sxy0FN2Zq21evjgJMo0iI7smp/lsn53Xk4\n",
              "0T0qKzsdOOlHiAEqzVo/FlF9b5y2WRmwDajMeN/5WQkp7LwGsZyt913xxpFFBUlZS6K0enCl6HDp\n",
              "oz7k2qyGV/j1X3lzF6y0mZSFhUqcdcudV/b8FGomci1JG+Kund/4l0cMS7wOCSb+4u3O+qsz4A38\n",
              "o4O/twlrmzZ+VGU4iwxJd2FvvA4vRm04mCb3RwQOv2RJS6S6+9f5QmvUg9KNRrBIrpymhDmJQzTt\n",
              "t2q+cPuYZsPhKZVIPXQAzR422ZVk9450IY8oXjRSWMwFm87J1w+Lzn+DodznseB9UpfXWidlytlU\n",
              "fIVwEFU1NKPJT9WjeiK/gesSnuv48PFkSAu2gBqAi1Guw3pPiQ6vNztDgr+CRbv8+Dt28SPqFoMx\n",
              "JxMJxYn412o+vGqBJpKn6G4d6yhPhLc9V79JMXt8W4wFAHRXRrnKsgPQ30D2fo1X+hZ1GotkBWAj\n",
              "O9/i6mc6bxfEL5KQyRX1Ij1hyQqjpIL31etnIwVdWt4C0zageTyiz4Kzcty+2IRYIVqBjN5KDZ8l\n",
              "CwQJS8y/WJlziTM+Z9Kf9CCFuMynXpiQtj/r2lRNncrhTpkzUYXT0StktV4TGkndtzvRohVEJ8fB\n",
              "e70H7GC+pDB7x8B+hPoRVUZt5SgsKjD6qtQDJtl++ViG9HX/N6XdLFqgaTfj4A+9LYnrYhfyHbXN\n",
              "/j5koeOg2Y2ZWKMazlWMW8EeJmV4M4oNt/95veoIk2Cg9U+iQOgqPAhIhsxNXMQQ6YMotYs14eer\n",
              "g/8H8+oBSIUxsCvgfH5MnbgCyRVaWvxBYxeckU7DmCzKmUN0kaHN837zsLW4F1HZrRtVfZixfGT0\n",
              "HWgBByGKDCAGulHl5tPVstpefohmLoD488o1rNYWRL6UlVPHGO61n68v0IXy8gOaG2SfGK82zwZt\n",
              "TSdlg+2xQiNwsvswXZzN5O2XSWRIcDS03Aob0VIFYumqv/eUv4mXBmavwygjo2J8AwJM5h72Cuca\n",
              "VispM8b+glTlMpuz1G5z8Ku3T/AD7EKF9D24MNXfNLd+CDfRGbi79l34mQUOH/ALJwpavShQxkw7\n",
              "qLYNvnX+Hzkf0SzII56vAKjbqmtqa4cq7idObEOLULoK2DitfjhqGj+/v59HtpXeEgV4xqlJwlNk\n",
              "yDw/Z6xUeaQ0hVz9o7YWjlMxX8SSNdYOxmmmup5wpzaKWmBASm/OGhIOwyEqOOm+b4rSvHE6ubnM\n",
              "HOOeNBrAGiqtm/5AmmNHmAVW+v0QBYoCJMrZE2rGOOu9t7dSjqyz3wLY10QqMAnj0H70oyrf0neh\n",
              "CnFq5dAdsL1CDeIZLKIUtgURmZEdiZSoPd0kJFmklzcqbkRU3oe/ianbi6QBhd9MkTKZ/fpMeMfX\n",
              "JxlVZuvrKC1bEisrGuI1pcenejLih87k2kktX0CLU/Gaet/JJ0QHuRxUnX2W2Gq0WPmNjNv/RhG1\n",
              "2CPwg4FSMFAeSwYzTqt6mV0dsxFWU8HD3Jwfr5dwDs/3AAAvin92g69dHd1dua8CU+DgCtjnKR4P\n",
              "x2VMz9xkUa/Lcfr1KSpEG3miIJ19Wd8tvCAhctBQlUGW/U6g0V0px5mp3GBR71TGspRCw9Hvw7Hr\n",
              "5eX01ffsXwn1TdN3nJbobDP622MYxoW/T7nN4rkhRsdCm680o6m6nzceo12EhNWHmGqpm8XqtWHL\n",
              "dAwXw1rYrOMhSiZ8vC87HeKN/WhjggVob45PuNjacRtxtPLMGZVMbAsbCFrdi+rnLb7NffOE53op\n",
              "UHkfUZupw1GIZTIiLABMx3Y1HXesljy7KcknHyYT9wid4o8kdWSbaKJiB1+q9hw5QPnlnKaIimNt\n",
              "AcA7JtHS4/Vc6I2+kbcQOstB36+QaNntu6jxKku1FDsiR1J3ebyY8OBAx1+uJbITJfMKV/NcmCNB\n",
              "SWmm6KI3p3FmoEi7e/Q07/bLJiXzXq/nxCkcvxhKkCPNMR6VoxxxhbpW362uPvy9AY2ppXmMlmWW\n",
              "XHP7OmJOm81hTMUBOX3NsWRNbhmYASz6OSDli+a9oyB6cmBE/oSuP8jAcBmBoZlf5ESS4xBfNK5P\n",
              "/dkmlpFKWfUPS27znNM7AGgPx36xhIJJwu2CLqDEXZGxR6zAcJyDT7JVe6CgfwxFWTtdG7WU4+ui\n",
              "ahfVAPeCnZBuH49zpesDLM3aG3xPf//V2LW9jRAu59106Pm6pCES3kjjjK/9Nx8GPYs6XyM0TkPc\n",
              "6uJ7/6y62hHKY8sxmIu5awX5Ov4zwizAPisJzlBFtoGFNqs3fKrqNOCUQMRvKwoIqzblrJGBpIkg\n",
              "MlG4uqowVOxOzR6bhI97m+eWZw2qwtxxNJdhRS0ztp6lT1SLe9fhdGozc+7OQCALIN1jiaVfqC9c\n",
              "PVBQQypYlwGnCWNbq/hUatcE1MZgP+DzInPoVxRm4D5WaqFXhCkwIlcZhWQJ5COFsPrC8r+noIL0\n",
              "XPeJGlHZ+vEbXT4x5t95zd+P6eg8Ci3+3siAL91kqRgYsg98eConZ2BDoCQNUdnmEarWfCmmLdBL\n",
              "EL4aodOi/TncVZRUq8H6UnSQBBrlf11aCq8uAqbwplv8h3R5DQwUtd86fvV6KTxLBy4z3bYF3nGE\n",
              "W3LXFjMh/SCcBTP3TUu/GPwYtCw/ldMFSp3taK+ujFcE/RL2t6RStUIAaxDirrZbFX6QiVS3bNV6\n",
              "m6uTFHOx3loLrNUprB9vi1KTkB1O4LHSP/3M4DDNXcSoHKbB0mJU0osts+YYs35tlhhZTU5NuTbm\n",
              "5Bd1qJrgbD6YJq/IAM1PWEC9cOO/rxT9tLwdupYaSZ/+aI33wWyGK6lKtOznZWivMk/zPnRKl5bt\n",
              "YFrZ0YoLiUWR2tJaXYeX4+tVyzwtogeXnbsPJNfMBIY4h1nqfzQcAABN5Y+mrom79VZzqi/Y134v\n",
              "/znn+4i8npyQLe3Es4XKIVukzVOp80eRnBBfpNST6+OPMMcCwonkc7R5qI8kzOprstJ/EhckwK3X\n",
              "H7I8Hdw4kiEgTy/JSsK6NrKumbM2uQ6c55pMHkFnYSGjGQp+glm98M+t99QrFSDAkVUd6hoCZ+lu\n",
              "74bx13JGC/i7L/QBbMEtDaEW6B551+2/3znnjDAFqAcECZZShtTjy6cT8Re6Ouq/nxvksMHTQegC\n",
              "SXXcuv6HmbfZyzhUVJT7gzcg/7U9x9b4ZjprhCw1/UuKitlgqOIuoAU6fhD0zOXNqlqkbjHj7vea\n",
              "kUjeOU4MpGwYrATb+L7lg0FBVpa7vXlyjPDTRE1dofYQ6G4XIazX2d9RykdN59oaKiFstA6H/PMA\n",
              "4jcMDorNVMUkODXI/BtRHrqD3+SeaNJ0OSjHaxjH5qoqDfmSy9thoVEV5++4JfcXB+jEMLVcODk0\n",
              "A5XZYpW12e9Dn7+x/7Af2NQAtk0KuNA8OfNlqmvzZWdh8oOPCX0tH43wT4PpY4Qy6NrdfzfWUsAw\n",
              "qPAGLiIkte6wSvOUXq2+BcF2lYXhjrKGvQFCCaE1nrTYK3Am0OgQQYxw6drO68pGGBzgZBEVvsCM\n",
              "iMwp3T82QR2MX7OBf3I2iD8/KBM4Fr6xN32lTq6FCGH6NGUccJcAyyVl7GZtXNoo/o4Ps/eLRLfK\n",
              "kBI/hdYiIynAD4LsLk8ifyVz30Wttegb3+1epDgnSD+rMg7Sj6D6ZCGh6PexopNf63W0OG7OOPHx\n",
              "hGfx1WkvqwSg/Sb3nXAx95X0Pts6ep2B3EDftMOqC2okKMIaofY5qpNpppzyLYOR3dSQ8OvT7Lr3\n",
              "B+Tl8wkiTdATYrdz0DzONkqvRUx6QqdQkbxEjorMlg5QGHqbidPo/E28qXJz+8uW7h79qEqceZgr\n",
              "9l25tu0nWza+UCrasdmiZAKH3+/LDb1z5OIZ0k+4AXz7Eb/uVfEe2Ouk6/+cPK7RnZNcaU5Q+YIa\n",
              "VraZP6a+K6wMfLWx/h9h4BOQqg4kgBdcw8w+sIlTGCKQkQSHiVM6HgSW70/GB6vkvIYf+4PPXA7u\n",
              "Yq1PvgrHdJSWTAXn2LblgjCQYQJswAF0KrUBkCzTGKuC+nHMmzkobANAq5YsdArlqfYlvnsUlg47\n",
              "fuLi6iU64sNAEkxuzs0B50txrXbhq/iXj0t5Q7RjhOZhEMM/m7jZt9Swh2vX98casQ5e6tXAn2aB\n",
              "cVtmZ05o/n9DCoyAzYJlMx5DQnZ9d5miAkbH1nnFXA3DWfkCGM6VLbzivY2QVGlaa8gMQyADBZf9\n",
              "UmTZKhenECVt3ZvHKTFqdzpLo8x+JhPLfYpfMkdIoQMBBvTpUj1Q85BDRrM2Dgn459ixzrey9497\n",
              "LBLq9cfdcTscxgw8C6JS//0ALkWB7H0wI8mw/6QUsoGxfzKiMlbWmqDkqJUNkuwzFuBw/ITpI0YB\n",
              "9H8N+2QgWG5hhV2ZI5IqCC7zgVhhO0r986QGDcT0aCoJ9jx0cAxQKzxW6vnH2xFVecPAKAxWRWcl\n",
              "QMFqkdX1toD60wQ7qwfyzNs8S+MITeaUSntbohsrEkN4xyPNrFm1Ov3HHz6TFJm/DHw/XEQC1K6N\n",
              "7JanM2+SaaXCsftRstfCBgOjXd8pRGVS0P0kR2go3ddPFl0KNMK6lm9nI4x3N2DZJb4Rw7H1KzJ0\n",
              "VqDwCuiFvagcnEPDoS0ZgRYA49Ne3VVuxe+WYfkAxapPl2cKVUtJxm/bv4yn6ZUzfQo88hDsnk8L\n",
              "xrNlXCpRj7FNRwyoh1B5IIHaDbtU3B5Jnjg6cvb2doxNpp0MbTKTJFL2mVBDA7tMHwJEBXWrsoa6\n",
              "zLg6K5s417wIlgie6SfdhfRBBCYvU2FFUyB1xU3nSoPDN7lieD1WT1eaXBQpBMwsTKe/Z7B1/XEH\n",
              "fIjiIf/v7YiQD4N/1XJvdAVwT3VsJu5PqwzMljfo/iXk7MQy8AXgP/K8ueYGYP0Zd3Y+2Q2cG8r5\n",
              "7FPu9hO39LrPYI2A5SkSM04XsqS34twl0lmEl//ry8wKHBWLc4IL8og2FJHrsS+W5HQIriEgA/lp\n",
              "0m/zZAXOJaA1JSc0Nlp3G+IihiTIwZW7Z0eZIAhWr9AnyT3K8XNHExer3SNZLDEM1Sxw52X42kWh\n",
              "3fbWPEGhCs0nPUEoX7PhRNox2mUsIi4E35OPD/s5Gq5MkPkPpLWe2kPl9VeVFsybOb3h9/J/grj9\n",
              "goa7n6IydAL0z2rZ6goXkM9GtFaOUrSMA4zj3bLfPMTKijZf5d5D4cSgf6Gmzdu8PS2x2QigeVoe\n",
              "r68AEi0FVbb4LGGOxj9QHJZef12AG4o62gpYXye4dnXJPa9Rus4hquDMK0zuFO/ef2R98jatTd+Q\n",
              "zw/u6UcC8jrSzMXr8TOozhRSYG7Bj/GzPRcfoaA4HXvWKztR01h56Fha1otjhKxKNtNJrsmN5oSI\n",
              "o17Wa1ZbkgSxqmrebrgUEXgQrZu9AhVLdvIXfAlZCsNVCC+KrLgQT3RoZ/tG8LSmvz+EoZFMG+nF\n",
              "pN7TDK2pw6PuD/igT2PWGSDD/bpP6Dw6nXv+QilwWa94ainQ+AqSe8OuxS6UspMsQF6tXSEW3Ekr\n",
              "4f/3fnILYz34dxHEwNMJZeJaikQMlEdk+jtYfhwv/C4wwj8n1jaBe/7yWlCRCfvIk7aK9G/vWca5\n",
              "F6g76u/+rS+4F+otktAHyKiVInO8bCOEZSdeOZXsU3nO+WuAhkm2HJEsQ4XGyj4N5LM/11NIC1fe\n",
              "D0i5Mu2nPuKLXnwfx1orN7R/O3yPzlPt1I65nOpp+YiWczUtemMb+nKK6TG8S9UkAdzcj9Hljsbd\n",
              "l+AUo/lBXi0+flB2meKtMRy7FRKo6dzEC/WGX8LYZ7G7+5+Cj0sEBnMny25/KQS02mYQQXQb5vgP\n",
              "64bIJB79mfY3n5oyTYF3h0MSyShsa06MLUQi3iKmONBLOT/nB9QRY4logHHOWAXmD0XjDt2BDulf\n",
              "mrBXuYU4twGbJhknxjMDWbTJlwS75u3tZloAro1IIOzsFniJqcNixq/bJycgSEPx45USGQQVUVOt\n",
              "bnHtYr8orKPODVNNo0oEXGtaF8qyO+uZr3mxF80PazDVvp4+NWH7Ae5Nw+FCFDbHG5tinRoSkBuJ\n",
              "QG3Oj/tCc1VqpmQiCxSDHk9WMJRvT3YWZ76Q9lXl84/dToP74tSs5sRhBwCTXYRjjmp2B3Q2Ua3U\n",
              "9jqU4I1dh0OkUThsUxvBQ3hdle2gkCtaZw3pTRncFnyHF5s6Fag8FsxB0rScSbhyCt7jtA52+WAl\n",
              "0/uK405gPMCs3oj0sOj8vnOT0knjcf4BuIYT/24oEjDlfBnUu69GFw6s3M1JYtjDVFE/dBmOjZPl\n",
              "WTI+1+moECv2F3CymyDWB5aOhtoGbAbNoya4lXJSHCliVGo6TgJF8J+41vRMjvKeL4EHr6xBZnMF\n",
              "XWnQ88zYP2LAIoejvdPmmlEXDb34HSwa0D7QAmQuILd6eR4jts0MHh3soee08r8DwxmdFnzWonGV\n",
              "fElBLUV7RQ/q2LPMjTniSETIC+fblKrttrOegjKSy4uXeNBbPO9bATISHk++wNstq64WWorZk5lV\n",
              "TVmpeoQawy7r21vi3w+nN4NyvbFA2Q9BDbba1mZVW6Gf8dnDryUYAPBmLdQS+g+o72dEeIPeZruC\n",
              "U10UR63zi6cgBla/Zv1ovw48J4JAWUH43FOGrnFJHUozm44VJg2mPwjnyZOrpG076ckpeew2JMad\n",
              "UG2+OfwNkjPLiqza0VLKPo56bwLyc9+iW0Ruy90xeWC7woUanh/6QIms1ZPsiCJOav97Hj64/Izi\n",
              "WmjvdbwW3/BDqc0Mn1wEEwSA6Xcm3ROz8QFXL3D+R1yQKqQsgAeE2grmg/i/kNV+iENak8Ld0fcY\n",
              "dqZasv59BHgPcekZICCvIea6mgyoFRj0mzk7srXw3ovsnY1pmYHgh/CvbecDroLC/Fu4h53FXhHH\n",
              "IpSgDJco2o6ftYDtHLemPqdMjKqAo+AULknDoKXwzTLDjOsQlbSWLF+tGOkryKZuDRW73EagFb4k\n",
              "zQXIFi/B3uDyZzc2mvd8s1KWn3gV7/VOmvcBWVYaR38FAc6vqadn5/vZ6jk6yfpFj5H0pP/R9hSr\n",
              "zxoE63AsDsBepxR3PuChzkk44zko4GjJGpjzgSZ7xMPRnDF0pjT/LtkAqshE7dKOXPrrfPEULqZn\n",
              "pJICiD9b9fiPswjqbe0UeZlS0uh4vNwAWb8w6M/1+rQ88FNMhRyMEl6VoF8Ite4QTRPmpnOGqxD3\n",
              "sSWfMD9S/iXQjo4fNqphU9mnCaD7ZB1dNx9oJEoAzanBa8NsC4xoVTLMKlpj6VzgePctjYCR80dj\n",
              "v+jZjL6Xz1lsd/g0mABOrxnO2BF2a0ngI4ECHWkAAAL+QZoibEK//jhAcfBDic59g/uZeW/gE0Oq\n",
              "QOAhqO/NCq01eQZAEL/segv6ddQCG+1ud6pyrVwHDpF31RQwT+qvNTZdWDbrf6t7Nur9FoXTz0UG\n",
              "J7AeJmMX/27nhEUzlq5dwOsTaQDjXhUyeD0ZzG017Z0OZQF/ckiWbhj+h7g5KNY2sfpfjk0Dr6nb\n",
              "sYk3W4eATuIq4UKvCQtvgscgg0UwJM4YDpcx3o0339ovZ6PqCEa2ZCfHqcY6g8FktWF4jSxukKBg\n",
              "8tnn/+TNQIRRehwhayVbcQF1v+GwQNkWAGMO8g1V23/MJjA8z5j5jP5LVD6gdjHesmUyLBXGm9Be\n",
              "x7wnGsSaLLUXKdmOLTeM5D8LvhJxYd5dcV7RAWvOjObjaRqMXF5Ru5thvzF4KtkrXeVOUgYkx6fZ\n",
              "iyrS3nl7ygdw4dfZkpSlqn7plqZQpell96++xsq3XQ3z1J1x/ECfa90Yo2xv0dTirSS6MLAu+b6T\n",
              "6BHjnhEGpwWbjbsfl67t/2WwJP/Pyu5xQ6TpJOe32Q0mb/ZxSP33gjK+vRVpjuFBWmsHRTNDx1kb\n",
              "t3boOX48eLu+Jh6VYYnKKJZHlpkuapFTFX0IUx54oUSo/MqWeB9iRF19ANli55NP+k9L7lKFSnDB\n",
              "TvHZx92DnX9WRr2eBf8KCBqwyrzkc5UP28tyv/9c9tggUApbc9IGmiaL/WD9BwqRd/oYIcjZVGzF\n",
              "JWAKhlRXZJ/M06sI+u3CSSf3Cb0Gc4+GVHyoQh0rlJXFTyMcHR7faHOMBWgSIRC6gBQwkvLSnEdT\n",
              "vFJ5ZtACZqKURxm1Zfs59sWgR2AFK2yUvq8nVRc8fTHofALivHMjh35OPAHPWfofurcLDsPbDjys\n",
              "wXQTDPTsGEcS7CQMPLDKg4CAd2F64aVDYrcxoAfpxb8HoADdrqgPXDGCTEOCG/Sso9MdBNQHDOZ6\n",
              "GIpLJbUx1R3NF6nKSUv7X1aKThTW22DRm3gIGChfZZA1R4qR54Jb2RV/d7mfqIYq7IKfF+rd1sAJ\n",
              "yAAAAFkBnkF5H/8Hu5qU+tA1xwtlJJoAAAMBrDgd9BvyudCPjDfnesdSRM/GGVTWVGlWk4Y3snsF\n",
              "XAAFxPpmbBudBoF3VNio28s/VrqSAIJywWFb/jcf3g2ZPTaj4QAAANRBmkQ8IZMphCv//jhBnakS\n",
              "1nQTE+UPm1mJ4m3TAQMQ4AZkLweCHiEScLCP/fhybwBdf8KQL4mTAGlf2GnUQtozm2Ss038VyH/x\n",
              "7y+sQ7jGx69EQY7naK5jnK1LmdTZClyXUC3oNA/qZ1IAdSwd4khOrgnMxgVqzelKORDLhhH5jK0r\n",
              "blnNeUmP7KUYiPZVyvLa8MtK4ObfThkaOAzUSbpLt1HzSl67GY0Azb8btpAqX8TbA1AL1kOFB9DW\n",
              "r4Ns0YRJcpAJm5OuY+vFU9M7pABtK1gUEAAAADgBnmNqR/8H5Io0D8IEOr5XM2gaaEnG2QasQ2gS\n",
              "QPCGxyHy5aD5EAJTdfKpKCSss2TZB0FaZvZeMQAAANBBmmZJ4Q8mUwU8K//+OEAJafswKRfBE36D\n",
              "oCcYHQ1i0oXRKdv8Sgow9nlkzaZLmlEVUexeMaajRkryQxWrbszGoR7h7yxhl1QxsstSd/V4/FKW\n",
              "Ysvlu83XIuPJG4tkfbmdm377xvyHDsDFCPiFt9iFLAaetmeYcy9l0IsblQVda9j5NhS6jdPNKhUp\n",
              "Hd35bEMDrSnJ1ghcBMtf7+IlVLVPPIoE5Fr355M0ME7aAI0CSOscWLq0yDizzDOA+Ew/6uq7VLG8\n",
              "VTY/ftZdZ1aBf3WBAAAAJgGehWpH/wBxQniPsZ31+X5sadGqtABc/yVUCWWE9nD/Ut4ydMc/AAAA\n",
              "X0Gah0nhDyZTAhf//oywAAGKfeGATXzo13qp5CtHC2O0zJPLYW6AKZicBem2t0W4EV33cjyz5bNP\n",
              "ysjfJAn3hrkEjLi4TF2QmTus7EeexsI8cggmJew6vI4C4YtVaVWBAAAAmEGaqUnhDyZTBRE8L//+\n",
              "jLAAAwFasAA2q1GLbqCwHatXhRDk2BlEGypdLPnaj7REP0gMihcyqN4n2jVSy4GJAvpog0iRz3qq\n",
              "6pK2FXMMaJiPzePL64AjlbbSN1oQ9pqo5FawvMEslao8pjmEKSkpozdIdOgTJyJ/zqcVTpd6ToDk\n",
              "l2GDHF2zid0umcml3XShp6/Vr3P43Z6AAAAAIwGeyGpH/wBxQniPsZ32DD5aiAAEshq66ri+cT92\n",
              "RfWeJ3ucAAAAm0GazEnhDyZTAhX//jhAABYbhsYA4oBK2M5OwH1tcPIUdCoewmuQK4hQzDg2zZuB\n",
              "VpIB2oqk+03Xc4HQl6tLav4pPs0+zHabpNO335cediGrNroRkn1wqZcKSL1C7AUQpWc73li6FrxO\n",
              "ey30K+BRiHDN4VYvs1QZMyy3WXomwMyM6TAQ+xqWQ5pYIN5IJi1D8ckocimI8G4iDU4hAAAAIkGe\n",
              "6kURPCP/AwgLfBCWwMPaM08WZQCvWqPBBAPtYR04W4AAAAAZAZ8Lakf/BNPjxbdg+PBoALWrD6As\n",
              "QFEyygAAAEVBmw1JqEFomUwIX//+jLAABbdP+AF/tqJpyxDv5uVufot4E//FLkEb18dysNUHSN0W\n",
              "loYfXW8c2xa0ax3Z9Y/3vR66bMEAAAA8QZsvSeEKUmUwURLC//6MsAAFvML80hPgA5YqMYpE/UlB\n",
              "/oTo6MszrrEnOPGH2R4WyYPAs8XBqj7jfZvnAAAAGQGfTmpH/wBxQniPsZ32M7Vz5ttNTK+K8fUA\n",
              "AAB2QZtTSeEOiZTAhf/+jLAAC7Y7bAFW223u8C6oKdr113TlOu4tLMysWxUzRAMIQbjtJdGgtyF+\n",
              "b5Ez28LfjQy72kVoUNK/10VB6QRdcuVS8tTqOHrN9MHxXbpySMz/5JbyqGfelQ7fs3Q8+xUGBMwU\n",
              "FaaCpOVi4AAAADNBn3FFFTwj/wMIC3wQlsDD2jNPFmUyDnx6uAFjsiuu9w9xyn1Oy1tMRzT5aqtV\n",
              "ntE+qggAAAAdAZ+QdEf/BNGIBoQSkgAt4treGO1SNukSA71tExEAAAAeAZ+Sakf/BNPjxne/LiAA\n",
              "EzO19z7aBkkNlkh5N+KAAAAAY0GblUmoQWiZTBTwv/6MsAAqn+Qs7s33v5vWLG2xooBIWta+iGvX\n",
              "X8c9L7zD2VoPqrA6fxR3cT3OXl8w8jZgq5GpJve8pm0vzRVzpLYcKGpKBlFdmBKGGqIpLXRZBWrx\n",
              "78TStgAAACUBn7RqR/8E1PkNX/ZsvrcFFe9s+2kAC1Fcl8jkqK+WRfSYjXM9AAAAmEGbuUnhClJl\n",
              "MCF//oywABeN8fVe2ZPWwE/113erpaCNs8goR3iJNmeBu2KBBcvKdLsYvOwlDtdTMQgWmovogp6s\n",
              "+Ke+UtucfMhzrda4aD4knk4b4aa9QnMyrl63JIF8wSnDh5eiLd3VoPiQdjGlT1KTZE56qgsIkkhj\n",
              "Mpl4dDD2ElpXQdl8QalEFfm00m9chU8kZ2hsrzAgAAAAMEGf10U0TCP/AxNtqEAkIZF5id2ylb8D\n",
              "9AAjAblxQsbQAsVHAMbwZ46W+Z+DJaUuYQAAACEBn/Z0R/8E0YgJLCUkATXC6ppKoRwB9tz+Ek16\n",
              "uP/cF60AAAAiAZ/4akf/BNPjx++Y3gBuY6wKduZ35sYBXvukVeCo7E7jGAAAAF1Bm/pJqEFomUwI\n",
              "X//+jLAAFv3xpOXev964AoMTjHqTIEwm15huAS3yJEqsvz4xbvkWyhQNeIjJdZd4O4q1wk4fcjuO\n",
              "m4SYMftnm9EhSRjSsJJJcwiXFZiLkHK9NNkAAAC7QZoeSeEKUmUwIX/+jLAALbh9gIOcBP72on7/\n",
              "B7JInU3ozAQQsxW0MbFn9j1JqsiCGFi0tdoXJxtQFMdKm7DbxJLUV/y1+HOaRNJahGP9Meb7GZdt\n",
              "D69hn26uoR+jmFnzaXdDwOqnogJ3Mac+KBRSTrdIV27NQD2QjKhcLSa520dLHMKewEQNyikzUCP8\n",
              "WZhW0dZahG2pFQnA5kCiEWCEcjjViGBjF+HJhX4IwmIfpJFYS2+a2pnFwazL0gAAADFBnjxFNEwj\n",
              "/wMTbahAJCGReYndsxKNkeULzQAIq6SpHDHZhXwvswCtmijQyby/0OFrAAAAHwGeW3RH/wTRiAkE\n",
              "CiAAWLCV1uaj0QYcFyOQXTsi2aEAAAAiAZ5dakf/BNPjypdDlgFJLaai7XM8+BMZGAkNsYQ2pEyZ\n",
              "mAAAAEZBmkBJqEFomUwU8L/+jLAALJUwzz5YChgt2hh8aikuOiytbuKN3iujlvcPgDxCPIjj57DN\n",
              "0kSb89HMb4sFhMIUoVrKHfBAAAAAIQGef2pH/wTU+Q1f9my+twZPcwAC2bkXQTQYPUFAsE49EQAA\n",
              "AE5BmmJJ4QpSZTBSwv/+jLAAK27f24sbRjw+eR64BosoIm7QxMv5q7E1FvwOkgGVlu4mflBBM1oi\n",
              "ybvaKiFI9a9EOtVAWQEdTXTJP/FEqP8AAAAaAZ6Bakf/AHFCeI+xnflbq6wZlTlasyTnCYEAAAA8\n",
              "QZqDSeEOiZTAhf/+jLAAK4xIp4gwDV8aySEGdSV3zaj2Z1bPpWXnEWhNR8sTvZc7XtxpB4NyNwME\n",
              "kgsoAAAAN0Gap0nhDyZTAhf//oywACt5vDANX1JoDR0DyhYOZnaHJmNDBUuIL+24Gq2V2r4RxWHK\n",
              "eM4+CNkAAAAiQZ7FRRE8I/8DCAt8EJbAw9ozTxZtq4JqP4nyOBCqaOnCUwAAABIBnuR0R/8E0YgN\n",
              "gdDGFfIqfwMAAAAUAZ7makf/BNPjyjh9mYt6B8GCxLEAAAAsQZroSahBaJlMCGf//p4QACn6z/cA\n",
              "NvsFnLaDyAUsvaQwuUM3CF4W7lyCw3oAAABSQZsMSeEKUmUwIZ/+nhAAKgxx7AtDgDijauaIERzA\n",
              "/YadB3nJDwnZQn9zIwZA7+3s2d09cb8XtabYoJvtszY9RHrMr4NEdHVkxqkr2OTMrUQYEAAAAB9B\n",
              "nypFNEwj/wMTbahAJCGReYndswDa6DCxJsCtBVihAAAAEgGfSXRH/wTRiA09C0Pz4KoB8AAAABkB\n",
              "n0tqR/8E0+PKT1FUAFkWdIIRD+76/OULAAAAYUGbUEmoQWiZTAhn//6eEABT8XoAFBtmheX47wam\n",
              "Ce9VoZtTQzuSty17FQ/S5S6zGg2jDN+ov6CJ1VTdOtPWCisaLV/mXT3v1AjPIwic8Kxm+6Z2Xg3K\n",
              "9uvt0moLE8HVIy8AAAApQZ9uRREsI/8DE7kQgEhEdfMUUmh2UqeYM0ADeDFECbunMhfIcBKPz/EA\n",
              "AAAkAZ+NdEf/BNGIFgUzWAC6cy2TDbWoY6UEk+XzN2iyLCzxOcJhAAAAFAGfj2pH/wTT48WeqxPG\n",
              "k+QssJvwAAAAT0GblEmoQWyZTAhf//6MsABUsdtgGr6lCXCGpm0upaQW76fAYgEmkcmZjKw98GaQ\n",
              "esEfRPIGgUvb0GRIEy0reCE3MbN2FIt8LEgcVYfO4wYAAAAgQZ+yRRUsI/8DE7kQgEhEdfMUadmq\n",
              "7jSNROiU8teHCUkAAAAOAZ/RdEf/BNGIBAVvukEAAAAYAZ/Takf/BNPjyitrPAAbTtyMC77EORQg\n",
              "AAAAQUGb2EmoQWyZTAhf//6MsAAqWebwA17XBCX9v3kEcihb+A+rQ47mbQLSYv9aS7Ji06+qAbVq\n",
              "fwoowMo+tc8NGK+BAAAAKEGf9kUVLCP/AxO5EIBIRHXzE/J2FpD+CAA2QgVoxnEYG1sWNAmw/qQA\n",
              "AAAjAZ4VdEf/BNGIDUjpeGgA1riXOBwSzOKjNWH0YcAFMO5oL1kAAAAdAZ4Xakf/BNPjyitrPAAW\n",
              "gSlH1NS+K8wVGWNNCHcAAABQQZoaSahBbJlMFEwz//6eEABRsbjgDlEmzsx8cdPtiS+z950pMww9\n",
              "eCyFO6cvELuden/YSQF2IakjJJz2WCCslKCxO9NNb5SSFQbckOTQ44AAAAApAZ45akf/BNT5DV/2\n",
              "bL9pg+hm+tqK4gAsP29U8S2Nv6AvrsxqOxpnlTEAAABJQZo+SeEKUmUwIX/+jLAAUnHbYBNfUoH+\n",
              "doSenQwrSmKzXjzgILRIkq4bdbwjnxGIaxv4jmraybU8UZxKON5IMx6qbAElJijGgAAAACBBnlxF\n",
              "NEwj/wMTbahAJCGReYoa4ZFYdIFyQQ8GGvDhKQAAABUBnnt0R/8E0YgWBAeMwzFzx+9h4oEAAAAR\n",
              "AZ59akf/BNPjygLNEfFe84QAAABeQZpiSahBaJlMCF///oywAFBCvrNkvAAFBtnekqGAXjSIiszV\n",
              "+Az8LiyMbbbU4E4YS39Hre4xyfJNcGlSXmP+SmrkYrpFwV4BJQ3Ubl+/94PP2DPISi8J+z/ijFMu\n",
              "YAAAAChBnoBFESwj/wMTuRCASER18xQ/FsnwAIv6pOtCJA3gzi0zOwYB0JppAAAAJAGev3RH/wTR\n",
              "iBWc6kAIh5wZPosYniEa5tuj8ibyqi9K4rx9QAAAACMBnqFqR/8E0+PPAKKaQAWpZezh19SE9joY\n",
              "/G8Y5D0saZ4+oQAAAFFBmqZJqEFsmUwIX//+jLAAoIaYy62vOirAJhh41XPZrj8e477VzaXOOWck\n",
              "5ZpcIHCmCJR91KykdmLm0dHpL9+e3d8W2VgBp2YNwWir6ZIBglYAAAAxQZ7ERRUsI/8DE7kQgEhE\n",
              "dq6e5DIfNnRV8gA4qt7WShfEcsulTtkIYaBKiUsic88ygQAAAB4BnuN0R/8E0YgVhd7wAF1BcUsQ\n",
              "h4dmnMUAOzEIfMEAAAAgAZ7lakf/BNPj2RwZadOkAC4eUwWWadirhlGYqORo9gcAAAAwQZrnSahB\n",
              "bJlMCGf//p4QAJ7U0fsgBW0YqMNAoiHH9eOvR40BzmQkAR30CbnfoKmBAAAAhUGbC0nhClJlMCF/\n",
              "/oywAKXvj4IO0ABCTAfhLpwvLvjsNJA2VZ/zjV19+iNlp4j2Fwyb0mer4b7CVAQup5ZdTjbnDnmB\n",
              "GuYQNDboV6vCfPJg7dStPuRCd7KS/OMMKLXDvZjYdoa7KeV47TYo6xed+nNhSApdog0YO3xTjs3v\n",
              "aNJwmRXeDZgAAAAsQZ8pRTRMI/8DE22oQCQhkeIfD++ACWHttOqVXG6X6LfH8DNxn6cNZha99O0A\n",
              "AAAaAZ9IdEf/BNGIKCMryf1wRW0JPvGkh02eQkEAAAAkAZ9Kakf/BNPj2brDgBYd8YgS1BJzZB1Y\n",
              "WP4wm6L/0M780F6wAAAAMEGbT0moQWiZTAhf//6MsABSc83gA3spANsIEEw3e6fCnR4WoxIlAfvl\n",
              "ROXWojRhZwAAAChBn21FESwj/wMTuRCASER18xRXzTQArjFb4h/+ntAiQIFMV6yyUOEpAAAAFQGf\n",
              "jHRH/wTRiBNPaUiWi/pAqGnNgQAAABUBn45qR/8E0+PNxJlIkYymq0oOFsEAAABmQZuTSahBbJlM\n",
              "CF///oywAFSz0oQAqUV6bF9yXTqqhIWjm21aLYMBOJc+udT6ppibdCheh1HB3FFkuCjcG8Y/js43\n",
              "cAKmOefTw/BBYG1HKe4/Hyn4e0pyD/2ox+n0tcD/URaC0YV8AAAAHkGfsUUVLCP/AxO5EIBIRHbd\n",
              "ZcYxSSnaXtrMS4PkqAAAAB0Bn9B0R/8E0YgWBd7wAExCuwIavEsaUvxPU/YD4QAAABwBn9JqR/8E\n",
              "0+PaPBx23BmGACbU70Fp7FKyTx6wAAAAJ0Gb1EmoQWyZTAhf//6MsABUszYAC11mk4qMLFS4NKOo\n",
              "jLBj93QOmAAAAD5Bm/hJ4QpSZTAhf/6MsABUsp0ABweE7eCUMrHljPZ4lfToDwJZkcR+EtlNxU22\n",
              "ZSghCWit/lx8udGKFh5BUwAAAChBnhZFNEwj/wMTbahAJCGR7zFIxiifgAnEc0oTgL7n9dRFcbAL\n",
              "p6/sAAAAIQGeNXRH/wTRiBZxKDPACSoJLY3KQovyfIbpf4QvcTnCYQAAABgBnjdqR/8E0+PPmR2B\n",
              "JjPELibv1ps8fUEAAAA7QZo7SahBaJlMCF///oywAFSx22AFk8MVRFhrmlnlTTelcoia+r5veyre\n",
              "uo1TpsG8ngHArvKkmRKcgqYAAAAoQZ5ZRREsI/8DE7kQgEhEdfMUapKoATTDdO+kse0wjhoFDd2z\n",
              "MxGkqQAAABUBnnpqR/8E0+PNxJlIkYymq0oOFsAAAAAwQZp+SahBbJlMCFf//jhAAUa22YAW4XSP\n",
              "RdNp1qvc107T+c9DBU7XBxLxAWG8CEbBAAAAJkGenEUVLCP/AxO5EIBIRHXzFGWeI2AA/nebSLCV\n",
              "hAWFYpgxHrCtAAAAIQGevWpH/wTT48+Z5lgAnTxIp8BHsSFOYPN4K9a8vFePqAAAACxBmqBJqEFs\n",
              "mUwUTCv//jhAAVE3i4eiAGzEg2uvFk2boSPFuRQVLGsN86aDpgAAABsBnt9qR/8E1PkNX/Zsv8S6\n",
              "Xgh4eROf5JmeRcEAAAAjQZrDSeEKUmUwI//8hAAT8mLNuAACWNG8I9EufhWnxpCsJuAAAAAhQZ7h\n",
              "RTRMI/8DE22oQCQhkXmKNyuGVk+IkjYD7R28OEpBAAAAFAGfAmpH/wTT49At7zJGPiqxEA5wAAAH\n",
              "vm1vb3YAAABsbXZoZAAAAAAAAAAAAAAAAAAAA+gAAAfQAAEAAAEAAAAAAAAAAAAAAAABAAAAAAAA\n",
              "AAAAAAAAAAAAAQAAAAAAAAAAAAAAAAAAQAAAAAAAAAAAAAAAAAAAAAAAAAAAAAAAAAAAAAAAAAIA\n",
              "AAbodHJhawAAAFx0a2hkAAAAAwAAAAAAAAAAAAAAAQAAAAAAAAfQAAAAAAAAAAAAAAAAAAAAAAAB\n",
              "AAAAAAAAAAAAAAAAAAAAAQAAAAAAAAAAAAAAAAAAQAAAAAGwAAABIAAAAAAAJGVkdHMAAAAcZWxz\n",
              "dAAAAAAAAAABAAAH0AAAAgAAAQAAAAAGYG1kaWEAAAAgbWRoZAAAAAAAAAAAAAAAAAAAMgAAAGQA\n",
              "VcQAAAAAAC1oZGxyAAAAAAAAAAB2aWRlAAAAAAAAAAAAAAAAVmlkZW9IYW5kbGVyAAAABgttaW5m\n",
              "AAAAFHZtaGQAAAABAAAAAAAAAAAAAAAkZGluZgAAABxkcmVmAAAAAAAAAAEAAAAMdXJsIAAAAAEA\n",
              "AAXLc3RibAAAALNzdHNkAAAAAAAAAAEAAACjYXZjMQAAAAAAAAABAAAAAAAAAAAAAAAAAAAAAAGw\n",
              "ASAASAAAAEgAAAAAAAAAAQAAAAAAAAAAAAAAAAAAAAAAAAAAAAAAAAAAAAAAAAAAABj//wAAADFh\n",
              "dmNDAWQAHv/hABhnZAAerNlBsJaEAAADAAQAAAMBkDxYtlgBAAZo6+PLIsAAAAAcdXVpZGtoQPJf\n",
              "JE/FujmlG88DI/MAAAAAAAAAGHN0dHMAAAAAAAAAAQAAAGQAAAEAAAAAFHN0c3MAAAAAAAAAAQAA\n",
              "AAEAAAMQY3R0cwAAAAAAAABgAAAAAQAAAgAAAAABAAADAAAAAAEAAAEAAAAAAQAAAwAAAAABAAAB\n",
              "AAAAAAEAAAMAAAAAAQAAAQAAAAABAAACAAAAAAEAAAMAAAAAAQAAAQAAAAABAAAEAAAAAAIAAAEA\n",
              "AAAAAQAAAgAAAAABAAADAAAAAAEAAAEAAAAAAQAABQAAAAABAAACAAAAAAEAAAAAAAAAAQAAAQAA\n",
              "AAABAAADAAAAAAEAAAEAAAAAAQAABQAAAAABAAACAAAAAAEAAAAAAAAAAQAAAQAAAAABAAACAAAA\n",
              "AAEAAAUAAAAAAQAAAgAAAAABAAAAAAAAAAEAAAEAAAAAAQAAAwAAAAABAAABAAAAAAEAAAMAAAAA\n",
              "AQAAAQAAAAABAAACAAAAAAEAAAUAAAAAAQAAAgAAAAABAAAAAAAAAAEAAAEAAAAAAQAAAgAAAAAB\n",
              "AAAFAAAAAAEAAAIAAAAAAQAAAAAAAAABAAABAAAAAAEAAAUAAAAAAQAAAgAAAAABAAAAAAAAAAEA\n",
              "AAEAAAAAAQAABQAAAAABAAACAAAAAAEAAAAAAAAAAQAAAQAAAAABAAAFAAAAAAEAAAIAAAAAAQAA\n",
              "AAAAAAABAAABAAAAAAEAAAMAAAAAAQAAAQAAAAABAAAFAAAAAAEAAAIAAAAAAQAAAAAAAAABAAAB\n",
              "AAAAAAEAAAUAAAAAAQAAAgAAAAABAAAAAAAAAAEAAAEAAAAAAQAABQAAAAABAAACAAAAAAEAAAAA\n",
              "AAAAAQAAAQAAAAABAAACAAAAAAEAAAUAAAAAAQAAAgAAAAABAAAAAAAAAAEAAAEAAAAAAQAABQAA\n",
              "AAABAAACAAAAAAEAAAAAAAAAAQAAAQAAAAABAAAFAAAAAAEAAAIAAAAAAQAAAAAAAAABAAABAAAA\n",
              "AAEAAAIAAAAAAQAABQAAAAABAAACAAAAAAEAAAAAAAAAAQAAAQAAAAABAAAEAAAAAAIAAAEAAAAA\n",
              "AQAABAAAAAACAAABAAAAAAEAAAMAAAAAAQAAAQAAAAABAAAEAAAAAAIAAAEAAAAAHHN0c2MAAAAA\n",
              "AAAAAQAAAAEAAABkAAAAAQAAAaRzdHN6AAAAAAAAAAAAAABkAAA1KAAAAwIAAABdAAAA2AAAADwA\n",
              "AADUAAAAKgAAAGMAAACcAAAAJwAAAJ8AAAAmAAAAHQAAAEkAAABAAAAAHQAAAHoAAAA3AAAAIQAA\n",
              "ACIAAABnAAAAKQAAAJwAAAA0AAAAJQAAACYAAABhAAAAvwAAADUAAAAjAAAAJgAAAEoAAAAlAAAA\n",
              "UgAAAB4AAABAAAAAOwAAACYAAAAWAAAAGAAAADAAAABWAAAAIwAAABYAAAAdAAAAZQAAAC0AAAAo\n",
              "AAAAGAAAAFMAAAAkAAAAEgAAABwAAABFAAAALAAAACcAAAAhAAAAVAAAAC0AAABNAAAAJAAAABkA\n",
              "AAAVAAAAYgAAACwAAAAoAAAAJwAAAFUAAAA1AAAAIgAAACQAAAA0AAAAiQAAADAAAAAeAAAAKAAA\n",
              "ADQAAAAsAAAAGQAAABkAAABqAAAAIgAAACEAAAAgAAAAKwAAAEIAAAAsAAAAJQAAABwAAAA/AAAA\n",
              "LAAAABkAAAA0AAAAKgAAACUAAAAwAAAAHwAAACcAAAAlAAAAGAAAABRzdGNvAAAAAAAAAAEAAAAs\n",
              "AAAAYnVkdGEAAABabWV0YQAAAAAAAAAhaGRscgAAAAAAAAAAbWRpcmFwcGwAAAAAAAAAAAAAAAAt\n",
              "aWxzdAAAACWpdG9vAAAAHWRhdGEAAAABAAAAAExhdmY1Ny44My4xMDA=\n",
              "\">\n",
              "  Your browser does not support the video tag.\n",
              "</video>"
            ]
          },
          "metadata": {
            "tags": []
          }
        }
      ]
    },
    {
      "cell_type": "code",
      "metadata": {
        "id": "QnyiOYRkll8S",
        "colab_type": "code",
        "colab": {}
      },
      "source": [
        ""
      ],
      "execution_count": 0,
      "outputs": []
    }
  ]
}